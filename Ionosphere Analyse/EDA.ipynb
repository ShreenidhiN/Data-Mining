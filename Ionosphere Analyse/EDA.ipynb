{
 "cells": [
  {
   "cell_type": "markdown",
   "metadata": {},
   "source": [
    "# EXPLORATORY DATA ANALYSIS  "
   ]
  },
  {
   "cell_type": "markdown",
   "metadata": {},
   "source": [
    "### Submitted by Shreenidhi N"
   ]
  },
  {
   "cell_type": "markdown",
   "metadata": {},
   "source": [
    "**ASSIGNMENT 1: Download the Ionosphere dataset from http://archive.ics.uci.edu/ml/datasets/Ionosphere, limiting yourself to analyzing to the subset of the dataset.  For instance,\n",
    "Analyze the 32nd, 33rd and 34th numerical attribute and the class variable of the dataset.**"
   ]
  },
  {
   "cell_type": "markdown",
   "metadata": {},
   "source": [
    "### **IMPORT REQUIRED LIBRARIES**"
   ]
  },
  {
   "cell_type": "code",
   "execution_count": 288,
   "metadata": {},
   "outputs": [],
   "source": [
    "import numpy as np\n",
    "import pandas as pd"
   ]
  },
  {
   "cell_type": "markdown",
   "metadata": {},
   "source": [
    "### **READ THE DATA**"
   ]
  },
  {
   "cell_type": "code",
   "execution_count": 289,
   "metadata": {},
   "outputs": [
    {
     "data": {
      "text/html": [
       "<div>\n",
       "<style scoped>\n",
       "    .dataframe tbody tr th:only-of-type {\n",
       "        vertical-align: middle;\n",
       "    }\n",
       "\n",
       "    .dataframe tbody tr th {\n",
       "        vertical-align: top;\n",
       "    }\n",
       "\n",
       "    .dataframe thead th {\n",
       "        text-align: right;\n",
       "    }\n",
       "</style>\n",
       "<table border=\"1\" class=\"dataframe\">\n",
       "  <thead>\n",
       "    <tr style=\"text-align: right;\">\n",
       "      <th></th>\n",
       "      <th>0</th>\n",
       "      <th>1</th>\n",
       "      <th>2</th>\n",
       "      <th>3</th>\n",
       "      <th>4</th>\n",
       "      <th>5</th>\n",
       "      <th>6</th>\n",
       "      <th>7</th>\n",
       "      <th>8</th>\n",
       "      <th>9</th>\n",
       "      <th>...</th>\n",
       "      <th>25</th>\n",
       "      <th>26</th>\n",
       "      <th>27</th>\n",
       "      <th>28</th>\n",
       "      <th>29</th>\n",
       "      <th>30</th>\n",
       "      <th>31</th>\n",
       "      <th>32</th>\n",
       "      <th>33</th>\n",
       "      <th>34</th>\n",
       "    </tr>\n",
       "  </thead>\n",
       "  <tbody>\n",
       "    <tr>\n",
       "      <th>0</th>\n",
       "      <td>1</td>\n",
       "      <td>0</td>\n",
       "      <td>0.99539</td>\n",
       "      <td>-0.05889</td>\n",
       "      <td>0.85243</td>\n",
       "      <td>0.02306</td>\n",
       "      <td>0.83398</td>\n",
       "      <td>-0.37708</td>\n",
       "      <td>1.00000</td>\n",
       "      <td>0.03760</td>\n",
       "      <td>...</td>\n",
       "      <td>-0.51171</td>\n",
       "      <td>0.41078</td>\n",
       "      <td>-0.46168</td>\n",
       "      <td>0.21266</td>\n",
       "      <td>-0.34090</td>\n",
       "      <td>0.42267</td>\n",
       "      <td>-0.54487</td>\n",
       "      <td>0.18641</td>\n",
       "      <td>-0.45300</td>\n",
       "      <td>g</td>\n",
       "    </tr>\n",
       "    <tr>\n",
       "      <th>1</th>\n",
       "      <td>1</td>\n",
       "      <td>0</td>\n",
       "      <td>1.00000</td>\n",
       "      <td>-0.18829</td>\n",
       "      <td>0.93035</td>\n",
       "      <td>-0.36156</td>\n",
       "      <td>-0.10868</td>\n",
       "      <td>-0.93597</td>\n",
       "      <td>1.00000</td>\n",
       "      <td>-0.04549</td>\n",
       "      <td>...</td>\n",
       "      <td>-0.26569</td>\n",
       "      <td>-0.20468</td>\n",
       "      <td>-0.18401</td>\n",
       "      <td>-0.19040</td>\n",
       "      <td>-0.11593</td>\n",
       "      <td>-0.16626</td>\n",
       "      <td>-0.06288</td>\n",
       "      <td>-0.13738</td>\n",
       "      <td>-0.02447</td>\n",
       "      <td>b</td>\n",
       "    </tr>\n",
       "    <tr>\n",
       "      <th>2</th>\n",
       "      <td>1</td>\n",
       "      <td>0</td>\n",
       "      <td>1.00000</td>\n",
       "      <td>-0.03365</td>\n",
       "      <td>1.00000</td>\n",
       "      <td>0.00485</td>\n",
       "      <td>1.00000</td>\n",
       "      <td>-0.12062</td>\n",
       "      <td>0.88965</td>\n",
       "      <td>0.01198</td>\n",
       "      <td>...</td>\n",
       "      <td>-0.40220</td>\n",
       "      <td>0.58984</td>\n",
       "      <td>-0.22145</td>\n",
       "      <td>0.43100</td>\n",
       "      <td>-0.17365</td>\n",
       "      <td>0.60436</td>\n",
       "      <td>-0.24180</td>\n",
       "      <td>0.56045</td>\n",
       "      <td>-0.38238</td>\n",
       "      <td>g</td>\n",
       "    </tr>\n",
       "    <tr>\n",
       "      <th>3</th>\n",
       "      <td>1</td>\n",
       "      <td>0</td>\n",
       "      <td>1.00000</td>\n",
       "      <td>-0.45161</td>\n",
       "      <td>1.00000</td>\n",
       "      <td>1.00000</td>\n",
       "      <td>0.71216</td>\n",
       "      <td>-1.00000</td>\n",
       "      <td>0.00000</td>\n",
       "      <td>0.00000</td>\n",
       "      <td>...</td>\n",
       "      <td>0.90695</td>\n",
       "      <td>0.51613</td>\n",
       "      <td>1.00000</td>\n",
       "      <td>1.00000</td>\n",
       "      <td>-0.20099</td>\n",
       "      <td>0.25682</td>\n",
       "      <td>1.00000</td>\n",
       "      <td>-0.32382</td>\n",
       "      <td>1.00000</td>\n",
       "      <td>b</td>\n",
       "    </tr>\n",
       "    <tr>\n",
       "      <th>4</th>\n",
       "      <td>1</td>\n",
       "      <td>0</td>\n",
       "      <td>1.00000</td>\n",
       "      <td>-0.02401</td>\n",
       "      <td>0.94140</td>\n",
       "      <td>0.06531</td>\n",
       "      <td>0.92106</td>\n",
       "      <td>-0.23255</td>\n",
       "      <td>0.77152</td>\n",
       "      <td>-0.16399</td>\n",
       "      <td>...</td>\n",
       "      <td>-0.65158</td>\n",
       "      <td>0.13290</td>\n",
       "      <td>-0.53206</td>\n",
       "      <td>0.02431</td>\n",
       "      <td>-0.62197</td>\n",
       "      <td>-0.05707</td>\n",
       "      <td>-0.59573</td>\n",
       "      <td>-0.04608</td>\n",
       "      <td>-0.65697</td>\n",
       "      <td>g</td>\n",
       "    </tr>\n",
       "  </tbody>\n",
       "</table>\n",
       "<p>5 rows × 35 columns</p>\n",
       "</div>"
      ],
      "text/plain": [
       "   0   1        2        3        4        5        6        7        8   \\\n",
       "0   1   0  0.99539 -0.05889  0.85243  0.02306  0.83398 -0.37708  1.00000   \n",
       "1   1   0  1.00000 -0.18829  0.93035 -0.36156 -0.10868 -0.93597  1.00000   \n",
       "2   1   0  1.00000 -0.03365  1.00000  0.00485  1.00000 -0.12062  0.88965   \n",
       "3   1   0  1.00000 -0.45161  1.00000  1.00000  0.71216 -1.00000  0.00000   \n",
       "4   1   0  1.00000 -0.02401  0.94140  0.06531  0.92106 -0.23255  0.77152   \n",
       "\n",
       "        9   ...       25       26       27       28       29       30  \\\n",
       "0  0.03760  ... -0.51171  0.41078 -0.46168  0.21266 -0.34090  0.42267   \n",
       "1 -0.04549  ... -0.26569 -0.20468 -0.18401 -0.19040 -0.11593 -0.16626   \n",
       "2  0.01198  ... -0.40220  0.58984 -0.22145  0.43100 -0.17365  0.60436   \n",
       "3  0.00000  ...  0.90695  0.51613  1.00000  1.00000 -0.20099  0.25682   \n",
       "4 -0.16399  ... -0.65158  0.13290 -0.53206  0.02431 -0.62197 -0.05707   \n",
       "\n",
       "        31       32       33  34  \n",
       "0 -0.54487  0.18641 -0.45300   g  \n",
       "1 -0.06288 -0.13738 -0.02447   b  \n",
       "2 -0.24180  0.56045 -0.38238   g  \n",
       "3  1.00000 -0.32382  1.00000   b  \n",
       "4 -0.59573 -0.04608 -0.65697   g  \n",
       "\n",
       "[5 rows x 35 columns]"
      ]
     },
     "execution_count": 289,
     "metadata": {},
     "output_type": "execute_result"
    }
   ],
   "source": [
    "data  = pd.read_csv(\"ionosphere.data\",header = None)\n",
    "data.head()"
   ]
  },
  {
   "cell_type": "markdown",
   "metadata": {},
   "source": [
    "### **TASKS :**"
   ]
  },
  {
   "cell_type": "markdown",
   "metadata": {},
   "source": [
    "**1 . Analyze the 32nd, 33rd and 34th numerical attribute and the class variable of the dataset.**"
   ]
  },
  {
   "cell_type": "code",
   "execution_count": 290,
   "metadata": {},
   "outputs": [
    {
     "data": {
      "text/html": [
       "<div>\n",
       "<style scoped>\n",
       "    .dataframe tbody tr th:only-of-type {\n",
       "        vertical-align: middle;\n",
       "    }\n",
       "\n",
       "    .dataframe tbody tr th {\n",
       "        vertical-align: top;\n",
       "    }\n",
       "\n",
       "    .dataframe thead th {\n",
       "        text-align: right;\n",
       "    }\n",
       "</style>\n",
       "<table border=\"1\" class=\"dataframe\">\n",
       "  <thead>\n",
       "    <tr style=\"text-align: right;\">\n",
       "      <th></th>\n",
       "      <th>1</th>\n",
       "      <th>2</th>\n",
       "      <th>3</th>\n",
       "      <th>4</th>\n",
       "      <th>5</th>\n",
       "      <th>6</th>\n",
       "      <th>7</th>\n",
       "      <th>8</th>\n",
       "      <th>9</th>\n",
       "      <th>10</th>\n",
       "      <th>...</th>\n",
       "      <th>26</th>\n",
       "      <th>27</th>\n",
       "      <th>28</th>\n",
       "      <th>29</th>\n",
       "      <th>30</th>\n",
       "      <th>31</th>\n",
       "      <th>32</th>\n",
       "      <th>33</th>\n",
       "      <th>34</th>\n",
       "      <th>35</th>\n",
       "    </tr>\n",
       "  </thead>\n",
       "  <tbody>\n",
       "    <tr>\n",
       "      <th>0</th>\n",
       "      <td>1</td>\n",
       "      <td>0</td>\n",
       "      <td>0.99539</td>\n",
       "      <td>-0.05889</td>\n",
       "      <td>0.85243</td>\n",
       "      <td>0.02306</td>\n",
       "      <td>0.83398</td>\n",
       "      <td>-0.37708</td>\n",
       "      <td>1.00000</td>\n",
       "      <td>0.03760</td>\n",
       "      <td>...</td>\n",
       "      <td>-0.51171</td>\n",
       "      <td>0.41078</td>\n",
       "      <td>-0.46168</td>\n",
       "      <td>0.21266</td>\n",
       "      <td>-0.34090</td>\n",
       "      <td>0.42267</td>\n",
       "      <td>-0.54487</td>\n",
       "      <td>0.18641</td>\n",
       "      <td>-0.45300</td>\n",
       "      <td>g</td>\n",
       "    </tr>\n",
       "    <tr>\n",
       "      <th>1</th>\n",
       "      <td>1</td>\n",
       "      <td>0</td>\n",
       "      <td>1.00000</td>\n",
       "      <td>-0.18829</td>\n",
       "      <td>0.93035</td>\n",
       "      <td>-0.36156</td>\n",
       "      <td>-0.10868</td>\n",
       "      <td>-0.93597</td>\n",
       "      <td>1.00000</td>\n",
       "      <td>-0.04549</td>\n",
       "      <td>...</td>\n",
       "      <td>-0.26569</td>\n",
       "      <td>-0.20468</td>\n",
       "      <td>-0.18401</td>\n",
       "      <td>-0.19040</td>\n",
       "      <td>-0.11593</td>\n",
       "      <td>-0.16626</td>\n",
       "      <td>-0.06288</td>\n",
       "      <td>-0.13738</td>\n",
       "      <td>-0.02447</td>\n",
       "      <td>b</td>\n",
       "    </tr>\n",
       "    <tr>\n",
       "      <th>2</th>\n",
       "      <td>1</td>\n",
       "      <td>0</td>\n",
       "      <td>1.00000</td>\n",
       "      <td>-0.03365</td>\n",
       "      <td>1.00000</td>\n",
       "      <td>0.00485</td>\n",
       "      <td>1.00000</td>\n",
       "      <td>-0.12062</td>\n",
       "      <td>0.88965</td>\n",
       "      <td>0.01198</td>\n",
       "      <td>...</td>\n",
       "      <td>-0.40220</td>\n",
       "      <td>0.58984</td>\n",
       "      <td>-0.22145</td>\n",
       "      <td>0.43100</td>\n",
       "      <td>-0.17365</td>\n",
       "      <td>0.60436</td>\n",
       "      <td>-0.24180</td>\n",
       "      <td>0.56045</td>\n",
       "      <td>-0.38238</td>\n",
       "      <td>g</td>\n",
       "    </tr>\n",
       "    <tr>\n",
       "      <th>3</th>\n",
       "      <td>1</td>\n",
       "      <td>0</td>\n",
       "      <td>1.00000</td>\n",
       "      <td>-0.45161</td>\n",
       "      <td>1.00000</td>\n",
       "      <td>1.00000</td>\n",
       "      <td>0.71216</td>\n",
       "      <td>-1.00000</td>\n",
       "      <td>0.00000</td>\n",
       "      <td>0.00000</td>\n",
       "      <td>...</td>\n",
       "      <td>0.90695</td>\n",
       "      <td>0.51613</td>\n",
       "      <td>1.00000</td>\n",
       "      <td>1.00000</td>\n",
       "      <td>-0.20099</td>\n",
       "      <td>0.25682</td>\n",
       "      <td>1.00000</td>\n",
       "      <td>-0.32382</td>\n",
       "      <td>1.00000</td>\n",
       "      <td>b</td>\n",
       "    </tr>\n",
       "    <tr>\n",
       "      <th>4</th>\n",
       "      <td>1</td>\n",
       "      <td>0</td>\n",
       "      <td>1.00000</td>\n",
       "      <td>-0.02401</td>\n",
       "      <td>0.94140</td>\n",
       "      <td>0.06531</td>\n",
       "      <td>0.92106</td>\n",
       "      <td>-0.23255</td>\n",
       "      <td>0.77152</td>\n",
       "      <td>-0.16399</td>\n",
       "      <td>...</td>\n",
       "      <td>-0.65158</td>\n",
       "      <td>0.13290</td>\n",
       "      <td>-0.53206</td>\n",
       "      <td>0.02431</td>\n",
       "      <td>-0.62197</td>\n",
       "      <td>-0.05707</td>\n",
       "      <td>-0.59573</td>\n",
       "      <td>-0.04608</td>\n",
       "      <td>-0.65697</td>\n",
       "      <td>g</td>\n",
       "    </tr>\n",
       "    <tr>\n",
       "      <th>...</th>\n",
       "      <td>...</td>\n",
       "      <td>...</td>\n",
       "      <td>...</td>\n",
       "      <td>...</td>\n",
       "      <td>...</td>\n",
       "      <td>...</td>\n",
       "      <td>...</td>\n",
       "      <td>...</td>\n",
       "      <td>...</td>\n",
       "      <td>...</td>\n",
       "      <td>...</td>\n",
       "      <td>...</td>\n",
       "      <td>...</td>\n",
       "      <td>...</td>\n",
       "      <td>...</td>\n",
       "      <td>...</td>\n",
       "      <td>...</td>\n",
       "      <td>...</td>\n",
       "      <td>...</td>\n",
       "      <td>...</td>\n",
       "      <td>...</td>\n",
       "    </tr>\n",
       "    <tr>\n",
       "      <th>346</th>\n",
       "      <td>1</td>\n",
       "      <td>0</td>\n",
       "      <td>0.83508</td>\n",
       "      <td>0.08298</td>\n",
       "      <td>0.73739</td>\n",
       "      <td>-0.14706</td>\n",
       "      <td>0.84349</td>\n",
       "      <td>-0.05567</td>\n",
       "      <td>0.90441</td>\n",
       "      <td>-0.04622</td>\n",
       "      <td>...</td>\n",
       "      <td>-0.04202</td>\n",
       "      <td>0.83479</td>\n",
       "      <td>0.00123</td>\n",
       "      <td>1.00000</td>\n",
       "      <td>0.12815</td>\n",
       "      <td>0.86660</td>\n",
       "      <td>-0.10714</td>\n",
       "      <td>0.90546</td>\n",
       "      <td>-0.04307</td>\n",
       "      <td>g</td>\n",
       "    </tr>\n",
       "    <tr>\n",
       "      <th>347</th>\n",
       "      <td>1</td>\n",
       "      <td>0</td>\n",
       "      <td>0.95113</td>\n",
       "      <td>0.00419</td>\n",
       "      <td>0.95183</td>\n",
       "      <td>-0.02723</td>\n",
       "      <td>0.93438</td>\n",
       "      <td>-0.01920</td>\n",
       "      <td>0.94590</td>\n",
       "      <td>0.01606</td>\n",
       "      <td>...</td>\n",
       "      <td>0.01361</td>\n",
       "      <td>0.93522</td>\n",
       "      <td>0.04925</td>\n",
       "      <td>0.93159</td>\n",
       "      <td>0.08168</td>\n",
       "      <td>0.94066</td>\n",
       "      <td>-0.00035</td>\n",
       "      <td>0.91483</td>\n",
       "      <td>0.04712</td>\n",
       "      <td>g</td>\n",
       "    </tr>\n",
       "    <tr>\n",
       "      <th>348</th>\n",
       "      <td>1</td>\n",
       "      <td>0</td>\n",
       "      <td>0.94701</td>\n",
       "      <td>-0.00034</td>\n",
       "      <td>0.93207</td>\n",
       "      <td>-0.03227</td>\n",
       "      <td>0.95177</td>\n",
       "      <td>-0.03431</td>\n",
       "      <td>0.95584</td>\n",
       "      <td>0.02446</td>\n",
       "      <td>...</td>\n",
       "      <td>0.03193</td>\n",
       "      <td>0.92489</td>\n",
       "      <td>0.02542</td>\n",
       "      <td>0.92120</td>\n",
       "      <td>0.02242</td>\n",
       "      <td>0.92459</td>\n",
       "      <td>0.00442</td>\n",
       "      <td>0.92697</td>\n",
       "      <td>-0.00577</td>\n",
       "      <td>g</td>\n",
       "    </tr>\n",
       "    <tr>\n",
       "      <th>349</th>\n",
       "      <td>1</td>\n",
       "      <td>0</td>\n",
       "      <td>0.90608</td>\n",
       "      <td>-0.01657</td>\n",
       "      <td>0.98122</td>\n",
       "      <td>-0.01989</td>\n",
       "      <td>0.95691</td>\n",
       "      <td>-0.03646</td>\n",
       "      <td>0.85746</td>\n",
       "      <td>0.00110</td>\n",
       "      <td>...</td>\n",
       "      <td>-0.02099</td>\n",
       "      <td>0.89147</td>\n",
       "      <td>-0.07760</td>\n",
       "      <td>0.82983</td>\n",
       "      <td>-0.17238</td>\n",
       "      <td>0.96022</td>\n",
       "      <td>-0.03757</td>\n",
       "      <td>0.87403</td>\n",
       "      <td>-0.16243</td>\n",
       "      <td>g</td>\n",
       "    </tr>\n",
       "    <tr>\n",
       "      <th>350</th>\n",
       "      <td>1</td>\n",
       "      <td>0</td>\n",
       "      <td>0.84710</td>\n",
       "      <td>0.13533</td>\n",
       "      <td>0.73638</td>\n",
       "      <td>-0.06151</td>\n",
       "      <td>0.87873</td>\n",
       "      <td>0.08260</td>\n",
       "      <td>0.88928</td>\n",
       "      <td>-0.09139</td>\n",
       "      <td>...</td>\n",
       "      <td>-0.15114</td>\n",
       "      <td>0.81147</td>\n",
       "      <td>-0.04822</td>\n",
       "      <td>0.78207</td>\n",
       "      <td>-0.00703</td>\n",
       "      <td>0.75747</td>\n",
       "      <td>-0.06678</td>\n",
       "      <td>0.85764</td>\n",
       "      <td>-0.06151</td>\n",
       "      <td>g</td>\n",
       "    </tr>\n",
       "  </tbody>\n",
       "</table>\n",
       "<p>351 rows × 35 columns</p>\n",
       "</div>"
      ],
      "text/plain": [
       "     1  2        3        4        5        6        7        8        9  \\\n",
       "0    1  0  0.99539 -0.05889  0.85243  0.02306  0.83398 -0.37708  1.00000   \n",
       "1    1  0  1.00000 -0.18829  0.93035 -0.36156 -0.10868 -0.93597  1.00000   \n",
       "2    1  0  1.00000 -0.03365  1.00000  0.00485  1.00000 -0.12062  0.88965   \n",
       "3    1  0  1.00000 -0.45161  1.00000  1.00000  0.71216 -1.00000  0.00000   \n",
       "4    1  0  1.00000 -0.02401  0.94140  0.06531  0.92106 -0.23255  0.77152   \n",
       "..  .. ..      ...      ...      ...      ...      ...      ...      ...   \n",
       "346  1  0  0.83508  0.08298  0.73739 -0.14706  0.84349 -0.05567  0.90441   \n",
       "347  1  0  0.95113  0.00419  0.95183 -0.02723  0.93438 -0.01920  0.94590   \n",
       "348  1  0  0.94701 -0.00034  0.93207 -0.03227  0.95177 -0.03431  0.95584   \n",
       "349  1  0  0.90608 -0.01657  0.98122 -0.01989  0.95691 -0.03646  0.85746   \n",
       "350  1  0  0.84710  0.13533  0.73638 -0.06151  0.87873  0.08260  0.88928   \n",
       "\n",
       "          10  ...       26       27       28       29       30       31  \\\n",
       "0    0.03760  ... -0.51171  0.41078 -0.46168  0.21266 -0.34090  0.42267   \n",
       "1   -0.04549  ... -0.26569 -0.20468 -0.18401 -0.19040 -0.11593 -0.16626   \n",
       "2    0.01198  ... -0.40220  0.58984 -0.22145  0.43100 -0.17365  0.60436   \n",
       "3    0.00000  ...  0.90695  0.51613  1.00000  1.00000 -0.20099  0.25682   \n",
       "4   -0.16399  ... -0.65158  0.13290 -0.53206  0.02431 -0.62197 -0.05707   \n",
       "..       ...  ...      ...      ...      ...      ...      ...      ...   \n",
       "346 -0.04622  ... -0.04202  0.83479  0.00123  1.00000  0.12815  0.86660   \n",
       "347  0.01606  ...  0.01361  0.93522  0.04925  0.93159  0.08168  0.94066   \n",
       "348  0.02446  ...  0.03193  0.92489  0.02542  0.92120  0.02242  0.92459   \n",
       "349  0.00110  ... -0.02099  0.89147 -0.07760  0.82983 -0.17238  0.96022   \n",
       "350 -0.09139  ... -0.15114  0.81147 -0.04822  0.78207 -0.00703  0.75747   \n",
       "\n",
       "          32       33       34  35  \n",
       "0   -0.54487  0.18641 -0.45300   g  \n",
       "1   -0.06288 -0.13738 -0.02447   b  \n",
       "2   -0.24180  0.56045 -0.38238   g  \n",
       "3    1.00000 -0.32382  1.00000   b  \n",
       "4   -0.59573 -0.04608 -0.65697   g  \n",
       "..       ...      ...      ...  ..  \n",
       "346 -0.10714  0.90546 -0.04307   g  \n",
       "347 -0.00035  0.91483  0.04712   g  \n",
       "348  0.00442  0.92697 -0.00577   g  \n",
       "349 -0.03757  0.87403 -0.16243   g  \n",
       "350 -0.06678  0.85764 -0.06151   g  \n",
       "\n",
       "[351 rows x 35 columns]"
      ]
     },
     "execution_count": 290,
     "metadata": {},
     "output_type": "execute_result"
    }
   ],
   "source": [
    "cols = [str(i) for i in range(1,36)]\n",
    "data.columns = cols\n",
    "data"
   ]
  },
  {
   "cell_type": "code",
   "execution_count": 291,
   "metadata": {},
   "outputs": [
    {
     "data": {
      "text/plain": [
       "Index(['32', '33', '34', '35'], dtype='object')"
      ]
     },
     "execution_count": 291,
     "metadata": {},
     "output_type": "execute_result"
    }
   ],
   "source": [
    "reqdCols = data[['32','33','34','35']]\n",
    "df = reqdCols.copy()\n",
    "\n",
    "df.columns"
   ]
  },
  {
   "cell_type": "markdown",
   "metadata": {},
   "source": [
    "**2 . Compute the covariance matrix for the three numerical attributes you are analyzing; also compute the correlation for each of the three pairs of attributes. Interpret the statistical findings!**\n"
   ]
  },
  {
   "cell_type": "code",
   "execution_count": 292,
   "metadata": {},
   "outputs": [
    {
     "data": {
      "text/plain": [
       "Index(['Col1', 'Col2', 'Col3', 'Class'], dtype='object')"
      ]
     },
     "execution_count": 292,
     "metadata": {},
     "output_type": "execute_result"
    }
   ],
   "source": [
    "\n",
    "df.columns = ['Col1','Col2','Col3','Class']\n",
    "df.columns\n"
   ]
  },
  {
   "cell_type": "code",
   "execution_count": 293,
   "metadata": {},
   "outputs": [
    {
     "data": {
      "text/html": [
       "<div>\n",
       "<style scoped>\n",
       "    .dataframe tbody tr th:only-of-type {\n",
       "        vertical-align: middle;\n",
       "    }\n",
       "\n",
       "    .dataframe tbody tr th {\n",
       "        vertical-align: top;\n",
       "    }\n",
       "\n",
       "    .dataframe thead th {\n",
       "        text-align: right;\n",
       "    }\n",
       "</style>\n",
       "<table border=\"1\" class=\"dataframe\">\n",
       "  <thead>\n",
       "    <tr style=\"text-align: right;\">\n",
       "      <th></th>\n",
       "      <th>Col1</th>\n",
       "      <th>Col2</th>\n",
       "      <th>Col3</th>\n",
       "    </tr>\n",
       "  </thead>\n",
       "  <tbody>\n",
       "    <tr>\n",
       "      <th>0</th>\n",
       "      <td>-0.54487</td>\n",
       "      <td>0.18641</td>\n",
       "      <td>-0.45300</td>\n",
       "    </tr>\n",
       "    <tr>\n",
       "      <th>1</th>\n",
       "      <td>-0.06288</td>\n",
       "      <td>-0.13738</td>\n",
       "      <td>-0.02447</td>\n",
       "    </tr>\n",
       "    <tr>\n",
       "      <th>2</th>\n",
       "      <td>-0.24180</td>\n",
       "      <td>0.56045</td>\n",
       "      <td>-0.38238</td>\n",
       "    </tr>\n",
       "    <tr>\n",
       "      <th>3</th>\n",
       "      <td>1.00000</td>\n",
       "      <td>-0.32382</td>\n",
       "      <td>1.00000</td>\n",
       "    </tr>\n",
       "    <tr>\n",
       "      <th>4</th>\n",
       "      <td>-0.59573</td>\n",
       "      <td>-0.04608</td>\n",
       "      <td>-0.65697</td>\n",
       "    </tr>\n",
       "    <tr>\n",
       "      <th>...</th>\n",
       "      <td>...</td>\n",
       "      <td>...</td>\n",
       "      <td>...</td>\n",
       "    </tr>\n",
       "    <tr>\n",
       "      <th>346</th>\n",
       "      <td>-0.10714</td>\n",
       "      <td>0.90546</td>\n",
       "      <td>-0.04307</td>\n",
       "    </tr>\n",
       "    <tr>\n",
       "      <th>347</th>\n",
       "      <td>-0.00035</td>\n",
       "      <td>0.91483</td>\n",
       "      <td>0.04712</td>\n",
       "    </tr>\n",
       "    <tr>\n",
       "      <th>348</th>\n",
       "      <td>0.00442</td>\n",
       "      <td>0.92697</td>\n",
       "      <td>-0.00577</td>\n",
       "    </tr>\n",
       "    <tr>\n",
       "      <th>349</th>\n",
       "      <td>-0.03757</td>\n",
       "      <td>0.87403</td>\n",
       "      <td>-0.16243</td>\n",
       "    </tr>\n",
       "    <tr>\n",
       "      <th>350</th>\n",
       "      <td>-0.06678</td>\n",
       "      <td>0.85764</td>\n",
       "      <td>-0.06151</td>\n",
       "    </tr>\n",
       "  </tbody>\n",
       "</table>\n",
       "<p>351 rows × 3 columns</p>\n",
       "</div>"
      ],
      "text/plain": [
       "        Col1     Col2     Col3\n",
       "0   -0.54487  0.18641 -0.45300\n",
       "1   -0.06288 -0.13738 -0.02447\n",
       "2   -0.24180  0.56045 -0.38238\n",
       "3    1.00000 -0.32382  1.00000\n",
       "4   -0.59573 -0.04608 -0.65697\n",
       "..       ...      ...      ...\n",
       "346 -0.10714  0.90546 -0.04307\n",
       "347 -0.00035  0.91483  0.04712\n",
       "348  0.00442  0.92697 -0.00577\n",
       "349 -0.03757  0.87403 -0.16243\n",
       "350 -0.06678  0.85764 -0.06151\n",
       "\n",
       "[351 rows x 3 columns]"
      ]
     },
     "execution_count": 293,
     "metadata": {},
     "output_type": "execute_result"
    }
   ],
   "source": [
    "df1 = df\n",
    "classVar=df['Class']\n",
    "df = df.drop(columns='Class')\n",
    "df"
   ]
  },
  {
   "cell_type": "code",
   "execution_count": 294,
   "metadata": {},
   "outputs": [
    {
     "name": "stdout",
     "output_type": "stream",
     "text": [
      "          Col1      Col2      Col3\n",
      "Col1  0.263759 -0.003489  0.123869\n",
      "Col2 -0.003489  0.273177 -0.032272\n",
      "Col3  0.123869 -0.032272  0.219340\n"
     ]
    }
   ],
   "source": [
    "print(df.cov())"
   ]
  },
  {
   "cell_type": "markdown",
   "metadata": {},
   "source": [
    "Shows that attributes : 32 and 33 are negatively correlated ; 32 and 34 are positively correlated ; 33 and 34 are negatively correlated.\n"
   ]
  },
  {
   "cell_type": "code",
   "execution_count": 295,
   "metadata": {},
   "outputs": [
    {
     "name": "stdout",
     "output_type": "stream",
     "text": [
      "          Col1      Col2      Col3\n",
      "Col1  1.000000 -0.012998  0.514992\n",
      "Col2 -0.012998  1.000000 -0.131840\n",
      "Col3  0.514992 -0.131840  1.000000\n"
     ]
    }
   ],
   "source": [
    "print(df.corr()) "
   ]
  },
  {
   "cell_type": "markdown",
   "metadata": {},
   "source": [
    "Shows that the attributes:\n",
    "32 and 33 are almost uncorrelated. \n",
    "32 and 34 are positively correlated.\n",
    "33 and 34 are weakly negatively correlated."
   ]
  },
  {
   "cell_type": "code",
   "execution_count": 296,
   "metadata": {},
   "outputs": [
    {
     "data": {
      "text/plain": [
       "<matplotlib.axes._subplots.AxesSubplot at 0x21603088cc8>"
      ]
     },
     "execution_count": 296,
     "metadata": {},
     "output_type": "execute_result"
    },
    {
     "data": {
      "image/png": "[encoded data removed]",
      "text/plain": [
       "<Figure size 432x288 with 2 Axes>"
      ]
     },
     "metadata": {
      "needs_background": "light"
     },
     "output_type": "display_data"
    }
   ],
   "source": [
    "import seaborn as sns\n",
    "sns.heatmap(df.corr())"
   ]
  },
  {
   "cell_type": "markdown",
   "metadata": {},
   "source": [
    "**3 . Create a scatter plot for the last two numerical attributes of your dataset. Interpret the scatter plot!**"
   ]
  },
  {
   "cell_type": "code",
   "execution_count": 297,
   "metadata": {},
   "outputs": [
    {
     "data": {
      "text/plain": [
       "<matplotlib.axes._subplots.AxesSubplot at 0x21601f212c8>"
      ]
     },
     "execution_count": 297,
     "metadata": {},
     "output_type": "execute_result"
    },
    {
     "data": {
      "image/png": "[encoded data removed]",
      "text/plain": [
       "<Figure size 432x288 with 1 Axes>"
      ]
     },
     "metadata": {
      "needs_background": "light"
     },
     "output_type": "display_data"
    }
   ],
   "source": [
    "sns.scatterplot(x=\"Col2\", y=\"Col3\", data=df)\n"
   ]
  },
  {
   "cell_type": "code",
   "execution_count": 298,
   "metadata": {},
   "outputs": [],
   "source": [
    "##from website :  http://www.shodor.org/interactivate/activities/Histogram/\n"
   ]
  },
  {
   "attachments": {
    "image.png": {
     "image/png": "[encoded data removed]"
    }
   },
   "cell_type": "markdown",
   "metadata": {},
   "source": [
    "![image.png](attachment:image.png)"
   ]
  },
  {
   "attachments": {
    "image.png": {
     "image/png": "[encoded data removed]"
    }
   },
   "cell_type": "markdown",
   "metadata": {},
   "source": [
    "![image.png](attachment:image.png)"
   ]
  },
  {
   "attachments": {
    "image.png": {
     "image/png": "[encoded data removed]"
    }
   },
   "cell_type": "markdown",
   "metadata": {},
   "source": [
    "![image.png](attachment:image.png)"
   ]
  },
  {
   "cell_type": "markdown",
   "metadata": {},
   "source": [
    "**4 . Analyze the spread and distribution of the 33rd numerical attribute of the original dataset.**"
   ]
  },
  {
   "cell_type": "code",
   "execution_count": 299,
   "metadata": {},
   "outputs": [
    {
     "data": {
      "application/vnd.plotly.v1+json": {
       "config": {
        "plotlyServerURL": "https://plot.ly"
       },
       "data": [
        {
         "autobinx": false,
         "histnorm": "probability density",
         "legendgroup": "distplot",
         "marker": {
          "color": "rgb(31, 119, 180)"
         },
         "name": "distplot",
         "opacity": 0.7,
         "type": "histogram",
         "x": [
          0.18641,
          -0.13738,
          0.56045,
          -0.32382,
          -0.04608,
          -0.00039,
          -0.13832,
          0,
          0.38895,
          -0.08208,
          0.22995,
          1,
          0.64727,
          1,
          1,
          0,
          0.70941,
          1,
          1,
          1,
          0.74354,
          -1,
          0.52099,
          0,
          0.64207,
          1,
          -0.13341,
          -1,
          0.52479,
          1,
          1,
          1,
          0.42189,
          -0.23185999999999998,
          1,
          1,
          0.83867,
          0,
          0.65258,
          1,
          0.0699,
          0,
          0.12137,
          1,
          0.49195,
          0,
          0.75115,
          -0.06117,
          0.7432300000000001,
          0,
          0.9332299999999999,
          0,
          1,
          1,
          0.8216600000000001,
          -1,
          0.73992,
          -1,
          0.8357399999999999,
          0,
          0.54252,
          1,
          0.22100999999999998,
          1,
          0.5138199999999999,
          1,
          0.80355,
          1,
          0.98816,
          1,
          0.7149300000000001,
          1,
          0.09047999999999999,
          0,
          0.33381,
          1,
          0.40442,
          -1,
          -0.81383,
          -1,
          1,
          1,
          -0.04023,
          -0.04013,
          0.56361,
          0.34410999999999997,
          0.7320800000000001,
          1,
          0.43137,
          -0.00526,
          0.52361,
          -0.18494000000000002,
          0.50435,
          0.52632,
          0.39559,
          0,
          -0.67699,
          -0.59943,
          0,
          0.57455,
          0,
          0.87011,
          0,
          0.69531,
          0,
          1,
          0,
          0.76586,
          0,
          0.30445,
          0,
          -0.42912,
          0,
          -0.37432,
          0,
          0.14694000000000002,
          0.4918,
          0.5884,
          0.25440999999999997,
          1,
          0.29091,
          0.43396,
          0.2619,
          0.33333,
          0,
          0.18632,
          0.81979,
          0.9314399999999999,
          0,
          0.9842,
          0.28919,
          0.17073,
          0,
          -0.26531,
          0,
          -0.28676,
          -0.40201,
          0.41667,
          -8e-05,
          0.51351,
          -1,
          0.9583799999999999,
          1,
          -8e-05,
          0.47058999999999995,
          0.00025,
          0,
          1,
          1,
          0.9786100000000001,
          0.40445,
          0.6333300000000001,
          0.04749,
          0.50376,
          -0.04598,
          0.79015,
          -0.01427,
          0.2672,
          0.1167,
          -0.21572,
          0.00705,
          0.79089,
          -1,
          -0.11215,
          0,
          -0.11765,
          -1,
          -0.55556,
          0,
          0.67493,
          0,
          1,
          0,
          1,
          0.17045,
          1,
          -0.67553,
          0.70833,
          0.16827,
          0.29220999999999997,
          0.82895,
          0.18353,
          0,
          -0.07457000000000001,
          0.47568999999999995,
          -0.004220000000000001,
          0,
          1,
          0,
          1,
          0,
          0.013359999999999999,
          -0.19792,
          0.18086,
          -1,
          0.85841,
          1,
          0.9652299999999999,
          0.00015,
          1,
          0,
          0.13994,
          0,
          0.86364,
          0,
          0.91176,
          0.14939000000000002,
          0.57418,
          0,
          0.72727,
          0,
          0.28985,
          0,
          1,
          1,
          -0.06738999999999999,
          1,
          0.11573,
          0,
          -0.47418999999999994,
          -1,
          -0.23845999999999998,
          1,
          -0.10289000000000001,
          0,
          -0.5623100000000001,
          0,
          0.42152,
          1,
          0.30588000000000004,
          0,
          1,
          -1,
          0.54632,
          0.56522,
          1,
          -0.19066,
          0.625,
          0.07389,
          0.65213,
          0,
          0.9174700000000001,
          0,
          0.8678600000000001,
          0.9066700000000001,
          0.8214299999999999,
          0,
          0.5896100000000001,
          0,
          0.02249,
          1,
          0.5146,
          0,
          0.34749,
          0.12197000000000001,
          -0.039830000000000004,
          0.6137199999999999,
          0.6029399999999999,
          0.5060899999999999,
          0.64407,
          0.44783,
          -0.27339,
          -0.42815,
          -0.48808,
          -0.8121,
          -0.64056,
          -0.11894,
          0.40821,
          0.56167,
          0.42223,
          0.9222600000000001,
          0.45361,
          0.69053,
          0.60674,
          0.30421,
          0.51358,
          0.50169,
          0.37379,
          -0.33483,
          -0.6413399999999999,
          -0.47201000000000004,
          -0.66932,
          -0.08937,
          0.42805,
          0.0029,
          0.44766999999999996,
          0.16655,
          0.77269,
          0.8823799999999999,
          0.72837,
          0.34615,
          0.6742,
          0.65817,
          0.79076,
          0.6106699999999999,
          0.56319,
          -0.19312,
          0.10007,
          0.0019399999999999999,
          0.40591,
          0.59407,
          0.64662,
          0.96778,
          0.9204899999999999,
          0.96575,
          0.76271,
          0.08333,
          -0.9190299999999999,
          -0.19609000000000001,
          0.48318999999999995,
          0.7482800000000001,
          0.76066,
          1,
          0.78761,
          0.34571999999999997,
          0.62765,
          0.76862,
          0.83544,
          0.5533,
          0.8425799999999999,
          0.9897100000000001,
          0.8673299999999999,
          0.9361700000000001,
          0.39394,
          0.40956,
          0.60073,
          0.75495,
          0.17758,
          0.09091,
          0.9756100000000001,
          0.92553,
          0.80774,
          0.80088,
          0.98934,
          0.98674,
          1,
          0.56286,
          0.70555,
          0.13376,
          -0.18533,
          -0.30153,
          0.9724700000000001,
          0.7843899999999999,
          0.28943,
          0.6388699999999999,
          0.13934000000000002,
          0.90546,
          0.9148299999999999,
          0.9269700000000001,
          0.87403,
          0.85764
         ],
         "xaxis": "x",
         "xbins": {
          "end": 1,
          "size": 1,
          "start": -1
         },
         "yaxis": "y"
        },
        {
         "legendgroup": "distplot",
         "marker": {
          "color": "rgb(31, 119, 180)"
         },
         "mode": "lines",
         "name": "distplot",
         "showlegend": false,
         "type": "scatter",
         "x": [
          -1,
          -0.996,
          -0.992,
          -0.988,
          -0.984,
          -0.98,
          -0.976,
          -0.972,
          -0.968,
          -0.964,
          -0.96,
          -0.956,
          -0.952,
          -0.948,
          -0.944,
          -0.94,
          -0.9359999999999999,
          -0.9319999999999999,
          -0.928,
          -0.924,
          -0.92,
          -0.916,
          -0.912,
          -0.908,
          -0.904,
          -0.9,
          -0.896,
          -0.892,
          -0.888,
          -0.884,
          -0.88,
          -0.876,
          -0.872,
          -0.868,
          -0.864,
          -0.86,
          -0.856,
          -0.852,
          -0.848,
          -0.844,
          -0.84,
          -0.836,
          -0.832,
          -0.8280000000000001,
          -0.8240000000000001,
          -0.8200000000000001,
          -0.8160000000000001,
          -0.812,
          -0.808,
          -0.804,
          -0.8,
          -0.796,
          -0.792,
          -0.788,
          -0.784,
          -0.78,
          -0.776,
          -0.772,
          -0.768,
          -0.764,
          -0.76,
          -0.756,
          -0.752,
          -0.748,
          -0.744,
          -0.74,
          -0.736,
          -0.732,
          -0.728,
          -0.724,
          -0.72,
          -0.716,
          -0.712,
          -0.708,
          -0.704,
          -0.7,
          -0.696,
          -0.692,
          -0.688,
          -0.6839999999999999,
          -0.6799999999999999,
          -0.6759999999999999,
          -0.6719999999999999,
          -0.6679999999999999,
          -0.6639999999999999,
          -0.6599999999999999,
          -0.656,
          -0.652,
          -0.648,
          -0.644,
          -0.64,
          -0.636,
          -0.632,
          -0.628,
          -0.624,
          -0.62,
          -0.616,
          -0.612,
          -0.608,
          -0.604,
          -0.6,
          -0.596,
          -0.5920000000000001,
          -0.5880000000000001,
          -0.5840000000000001,
          -0.5800000000000001,
          -0.5760000000000001,
          -0.5720000000000001,
          -0.5680000000000001,
          -0.5640000000000001,
          -0.56,
          -0.556,
          -0.552,
          -0.548,
          -0.544,
          -0.54,
          -0.536,
          -0.532,
          -0.528,
          -0.524,
          -0.52,
          -0.516,
          -0.512,
          -0.508,
          -0.504,
          -0.5,
          -0.496,
          -0.492,
          -0.488,
          -0.484,
          -0.48,
          -0.476,
          -0.472,
          -0.46799999999999997,
          -0.46399999999999997,
          -0.45999999999999996,
          -0.45599999999999996,
          -0.45199999999999996,
          -0.44799999999999995,
          -0.44399999999999995,
          -0.43999999999999995,
          -0.43600000000000005,
          -0.43200000000000005,
          -0.42800000000000005,
          -0.42400000000000004,
          -0.42000000000000004,
          -0.41600000000000004,
          -0.41200000000000003,
          -0.40800000000000003,
          -0.404,
          -0.4,
          -0.396,
          -0.392,
          -0.388,
          -0.384,
          -0.38,
          -0.376,
          -0.372,
          -0.368,
          -0.364,
          -0.36,
          -0.356,
          -0.352,
          -0.348,
          -0.344,
          -0.33999999999999997,
          -0.33599999999999997,
          -0.33199999999999996,
          -0.32799999999999996,
          -0.32399999999999995,
          -0.31999999999999995,
          -0.31599999999999995,
          -0.31200000000000006,
          -0.30800000000000005,
          -0.30400000000000005,
          -0.30000000000000004,
          -0.29600000000000004,
          -0.29200000000000004,
          -0.28800000000000003,
          -0.28400000000000003,
          -0.28,
          -0.276,
          -0.272,
          -0.268,
          -0.264,
          -0.26,
          -0.256,
          -0.252,
          -0.248,
          -0.244,
          -0.24,
          -0.236,
          -0.23199999999999998,
          -0.22799999999999998,
          -0.22399999999999998,
          -0.21999999999999997,
          -0.21599999999999997,
          -0.21199999999999997,
          -0.20799999999999996,
          -0.20399999999999996,
          -0.19999999999999996,
          -0.19599999999999995,
          -0.19199999999999995,
          -0.18799999999999994,
          -0.18400000000000005,
          -0.18000000000000005,
          -0.17600000000000005,
          -0.17200000000000004,
          -0.16800000000000004,
          -0.16400000000000003,
          -0.16000000000000003,
          -0.15600000000000003,
          -0.15200000000000002,
          -0.14800000000000002,
          -0.14400000000000002,
          -0.14,
          -0.136,
          -0.132,
          -0.128,
          -0.124,
          -0.12,
          -0.11599999999999999,
          -0.11199999999999999,
          -0.10799999999999998,
          -0.10399999999999998,
          -0.09999999999999998,
          -0.09599999999999997,
          -0.09199999999999997,
          -0.08799999999999997,
          -0.08399999999999996,
          -0.07999999999999996,
          -0.07599999999999996,
          -0.07199999999999995,
          -0.06799999999999995,
          -0.06399999999999995,
          -0.06000000000000005,
          -0.05600000000000005,
          -0.052000000000000046,
          -0.04800000000000004,
          -0.04400000000000004,
          -0.040000000000000036,
          -0.03600000000000003,
          -0.03200000000000003,
          -0.028000000000000025,
          -0.02400000000000002,
          -0.020000000000000018,
          -0.016000000000000014,
          -0.01200000000000001,
          -0.008000000000000007,
          -0.0040000000000000036,
          0,
          0.0040000000000000036,
          0.008000000000000007,
          0.01200000000000001,
          0.016000000000000014,
          0.020000000000000018,
          0.02400000000000002,
          0.028000000000000025,
          0.03200000000000003,
          0.03600000000000003,
          0.040000000000000036,
          0.04400000000000004,
          0.04800000000000004,
          0.052000000000000046,
          0.05600000000000005,
          0.06000000000000005,
          0.06400000000000006,
          0.06800000000000006,
          0.07200000000000006,
          0.07600000000000007,
          0.08000000000000007,
          0.08400000000000007,
          0.08800000000000008,
          0.09200000000000008,
          0.09600000000000009,
          0.10000000000000009,
          0.10400000000000009,
          0.1080000000000001,
          0.1120000000000001,
          0.1160000000000001,
          0.1200000000000001,
          0.12400000000000011,
          0.1279999999999999,
          0.1319999999999999,
          0.1359999999999999,
          0.1399999999999999,
          0.1439999999999999,
          0.1479999999999999,
          0.1519999999999999,
          0.15599999999999992,
          0.15999999999999992,
          0.16399999999999992,
          0.16799999999999993,
          0.17199999999999993,
          0.17599999999999993,
          0.17999999999999994,
          0.18399999999999994,
          0.18799999999999994,
          0.19199999999999995,
          0.19599999999999995,
          0.19999999999999996,
          0.20399999999999996,
          0.20799999999999996,
          0.21199999999999997,
          0.21599999999999997,
          0.21999999999999997,
          0.22399999999999998,
          0.22799999999999998,
          0.23199999999999998,
          0.236,
          0.24,
          0.244,
          0.248,
          0.252,
          0.256,
          0.26,
          0.264,
          0.268,
          0.272,
          0.276,
          0.28,
          0.28400000000000003,
          0.28800000000000003,
          0.29200000000000004,
          0.29600000000000004,
          0.30000000000000004,
          0.30400000000000005,
          0.30800000000000005,
          0.31200000000000006,
          0.31600000000000006,
          0.32000000000000006,
          0.32400000000000007,
          0.32800000000000007,
          0.3320000000000001,
          0.3360000000000001,
          0.3400000000000001,
          0.3440000000000001,
          0.3480000000000001,
          0.3520000000000001,
          0.3560000000000001,
          0.3600000000000001,
          0.3640000000000001,
          0.3680000000000001,
          0.3720000000000001,
          0.3759999999999999,
          0.3799999999999999,
          0.3839999999999999,
          0.3879999999999999,
          0.3919999999999999,
          0.3959999999999999,
          0.3999999999999999,
          0.4039999999999999,
          0.4079999999999999,
          0.4119999999999999,
          0.4159999999999999,
          0.41999999999999993,
          0.42399999999999993,
          0.42799999999999994,
          0.43199999999999994,
          0.43599999999999994,
          0.43999999999999995,
          0.44399999999999995,
          0.44799999999999995,
          0.45199999999999996,
          0.45599999999999996,
          0.45999999999999996,
          0.46399999999999997,
          0.46799999999999997,
          0.472,
          0.476,
          0.48,
          0.484,
          0.488,
          0.492,
          0.496,
          0.5,
          0.504,
          0.508,
          0.512,
          0.516,
          0.52,
          0.524,
          0.528,
          0.532,
          0.536,
          0.54,
          0.544,
          0.548,
          0.552,
          0.556,
          0.56,
          0.5640000000000001,
          0.5680000000000001,
          0.5720000000000001,
          0.5760000000000001,
          0.5800000000000001,
          0.5840000000000001,
          0.5880000000000001,
          0.5920000000000001,
          0.5960000000000001,
          0.6000000000000001,
          0.6040000000000001,
          0.6080000000000001,
          0.6120000000000001,
          0.6160000000000001,
          0.6200000000000001,
          0.6240000000000001,
          0.6279999999999999,
          0.6319999999999999,
          0.6359999999999999,
          0.6399999999999999,
          0.6439999999999999,
          0.6479999999999999,
          0.6519999999999999,
          0.6559999999999999,
          0.6599999999999999,
          0.6639999999999999,
          0.6679999999999999,
          0.6719999999999999,
          0.6759999999999999,
          0.6799999999999999,
          0.6839999999999999,
          0.688,
          0.692,
          0.696,
          0.7,
          0.704,
          0.708,
          0.712,
          0.716,
          0.72,
          0.724,
          0.728,
          0.732,
          0.736,
          0.74,
          0.744,
          0.748,
          0.752,
          0.756,
          0.76,
          0.764,
          0.768,
          0.772,
          0.776,
          0.78,
          0.784,
          0.788,
          0.792,
          0.796,
          0.8,
          0.804,
          0.808,
          0.812,
          0.8160000000000001,
          0.8200000000000001,
          0.8240000000000001,
          0.8280000000000001,
          0.8320000000000001,
          0.8360000000000001,
          0.8400000000000001,
          0.8440000000000001,
          0.8480000000000001,
          0.8520000000000001,
          0.8560000000000001,
          0.8600000000000001,
          0.8640000000000001,
          0.8680000000000001,
          0.8720000000000001,
          0.8759999999999999,
          0.8799999999999999,
          0.8839999999999999,
          0.8879999999999999,
          0.8919999999999999,
          0.8959999999999999,
          0.8999999999999999,
          0.9039999999999999,
          0.9079999999999999,
          0.9119999999999999,
          0.9159999999999999,
          0.9199999999999999,
          0.9239999999999999,
          0.9279999999999999,
          0.9319999999999999,
          0.9359999999999999,
          0.94,
          0.944,
          0.948,
          0.952,
          0.956,
          0.96,
          0.964,
          0.968,
          0.972,
          0.976,
          0.98,
          0.984,
          0.988,
          0.992,
          0.996
         ],
         "xaxis": "x",
         "y": [
          0.10246503861306308,
          0.10298683811649387,
          0.1034672941318363,
          0.10390653725835415,
          0.1043047866446702,
          0.10466234924809702,
          0.10497961881017775,
          0.1052570745523324,
          0.10549527959672299,
          0.10569487911864874,
          0.10585659823794,
          0.10598123965795324,
          0.10606968106185558,
          0.10612287227691551,
          0.1061418322185087,
          0.1061276456264621,
          0.10608145960722971,
          0.10600447999617336,
          0.10589796755495207,
          0.10576323401965892,
          0.10560163801591964,
          0.10541458085764158,
          0.10520350224651423,
          0.10496987588967015,
          0.10471520505315264,
          0.10444101806898407,
          0.10414886381367974,
          0.10384030717603296,
          0.10351692453188782,
          0.10318029924341017,
          0.10283201720010886,
          0.102473662418486,
          0.10210681271678045,
          0.10173303548075018,
          0.1013538835358794,
          0.10097089114074112,
          0.10058557011556132,
          0.10019940611925766,
          0.09981385508743044,
          0.09943033984291003,
          0.09905024688958479,
          0.09867492339927796,
          0.09830567440049506,
          0.0979437601768533,
          0.09759039388200436,
          0.0972467393768313,
          0.09691390929366583,
          0.09659296333123063,
          0.0962849067829828,
          0.09599068930049888,
          0.0957112038925294,
          0.09544728615935855,
          0.09519971376111802,
          0.09496920611776888,
          0.09475642433754537,
          0.09456197136976961,
          0.09438639237711803,
          0.09423017532160691,
          0.0940937517578321,
          0.09397749782627962,
          0.09388173543888333,
          0.09380673364840784,
          0.09375271019269099,
          0.09371983320429843,
          0.09370822307571716,
          0.09371795446984527,
          0.09374905846523114,
          0.09380152482526048,
          0.09387530438030667,
          0.09397031151172083,
          0.09408642672647159,
          0.09422349931121718,
          0.0943813500546368,
          0.09455977402693215,
          0.09475854340555125,
          0.0949774103363761,
          0.09521610981984652,
          0.09547436261177054,
          0.09575187812889441,
          0.09604835734964888,
          0.09636349570088792,
          0.09669698592184951,
          0.09704852089701424,
          0.09741779645001149,
          0.09780451409120913,
          0.09820838371213401,
          0.09862912622038822,
          0.09906647610925358,
          0.09952018395672056,
          0.09999001884920482,
          0.10047577072576024,
          0.10097725263912667,
          0.10149430293047222,
          0.10202678731520912,
          0.10257460087775921,
          0.10313766997362354,
          0.10371595403758282,
          0.1043094472972881,
          0.10491818039191757,
          0.10554222189596973,
          0.10618167974861695,
          0.10683670258937168,
          0.10750748100112131,
          0.10819424866183615,
          0.10889728340649589,
          0.10961690820095756,
          0.11035349202964771,
          0.11110745069907438,
          0.11187924755922997,
          0.11266939414499522,
          0.11347845073965583,
          0.11430702686260306,
          0.11515578168321437,
          0.11602542436280353,
          0.11691671432637278,
          0.11783046146572909,
          0.11876752627530043,
          0.11972881992175263,
          0.12071530424822331,
          0.1217279917136929,
          0.1227679452676766,
          0.12383627816008273,
          0.12493415368569512,
          0.12606278486236464,
          0.12722343404158037,
          0.12841741244968197,
          0.12964607965754935,
          0.13091084297618025,
          0.13221315677513673,
          0.1335545217204126,
          0.13493648392785945,
          0.1363606340278896,
          0.137828606136786,
          0.13934207672956367,
          0.1409027634089753,
          0.14251242356491328,
          0.14417285291817006,
          0.14588588394224003,
          0.14765338415661944,
          0.1494772542848752,
          0.1513594262706027,
          0.15330186114430425,
          0.15530654673417832,
          0.15737549521381866,
          0.159510740479904,
          0.16171433535309523,
          0.1639883485955545,
          0.1663348617387793,
          0.16875596571578055,
          0.1712537572920548,
          0.1738303352902831,
          0.1764877966042518,
          0.17922823199814808,
          0.18205372168807454,
          0.18496633070344862,
          0.18796810402680048,
          0.191061061511455,
          0.19424719257757841,
          0.19752845068818603,
          0.2009067476078596,
          0.2043839474481495,
          0.2079618605049407,
          0.21164223689440292,
          0.21542675999554606,
          0.2193170397088722,
          0.22331460554208316,
          0.22742089953535602,
          0.23163726904024076,
          0.23596495936781675,
          0.2404051063233313,
          0.2449587286461412,
          0.24962672037535621,
          0.25440984316315035,
          0.25930871855927123,
          0.26432382029174534,
          0.26945546657027625,
          0.2747038124402094,
          0.2800688422162643,
          0.2855503620265111,
          0.29114799249818607,
          0.29686116161804443,
          0.30268909780082986,
          0.30863082320030666,
          0.3146851472979604,
          0.320850660804983,
          0.32712572991357103,
          0.3335084909337606,
          0.3399968453520485,
          0.3465884553479321,
          0.35328073980414254,
          0.3600708708458435,
          0.3669557709433174,
          0.3739321106117562,
          0.3809963067406205,
          0.3881445215836843,
          0.39537266243935437,
          0.4026763820490565,
          0.41005107973953847,
          0.4174919033327543,
          0.42499375184464483,
          0.4325512789915342,
          0.4401588975201555,
          0.4478107843743753,
          0.45550088670860994,
          0.4632229287546758,
          0.4709704195454683,
          0.47873666149533045,
          0.4865147598333543,
          0.4942976328822086,
          0.5020780231712081,
          0.5098485093686088,
          0.5176015190141332,
          0.5253293420289468,
          0.5330241449762884,
          0.5406779860422437,
          0.5482828307021942,
          0.5558305680348492,
          0.5633130276420147,
          0.5707219971288239,
          0.5780492400956345,
          0.5852865145896636,
          0.5924255919613067,
          0.5994582760672412,
          0.6063764227597733,
          0.6131719595995049,
          0.6198369057261972,
          0.6263633918208937,
          0.6327436800907368,
          0.63897018420666,
          0.6450354891231157,
          0.6509323707084043,
          0.6566538151138206,
          0.662193037809863,
          0.6675435022180954,
          0.672698937867984,
          0.6776533580090897,
          0.6824010766103321,
          0.6869367246798544,
          0.691255265841045,
          0.6953520111026555,
          0.6992226327637138,
          0.7028631773968566,
          0.7062700778571517,
          0.7094401642668956,
          0.7123706739308088,
          0.7150592601401405,
          0.7175039998283497,
          0.7197034000457266,
          0.7216564032247332,
          0.7233623912128551,
          0.7248211880545405,
          0.7260330615088825,
          0.7269987232948124,
          0.7277193280606055,
          0.728196471079796,
          0.7284321846805883,
          0.728428933421026,
          0.7281896080272191,
          0.7277175181167945,
          0.7270163837346235,
          0.7260903257325206,
          0.7249438550291071,
          0.723581860790379,
          0.7220095975755695,
          0.720232671496851,
          0.718257025444943,
          0.7160889234361357,
          0.7137349341392482,
          0.7112019136438548,
          0.7084969875335763,
          0.7056275323303445,
          0.7026011563774466,
          0.6994256802306059,
          0.6961091166275166,
          0.6926596501071131,
          0.6890856163503263,
          0.6853954813142814,
          0.6815978202316322,
          0.6777012965463896,
          0.6737146408566845,
          0.669646629933856,
          0.6655060658858655,
          0.6613017555313422,
          0.6570424900486896,
          0.652737024962385,
          0.6483940605263263,
          0.6440222225613401,
          0.6396300438011518,
          0.6352259457981942,
          0.6308182214373064,
          0.626415018102267,
          0.6220243215364676,
          0.6176539404357254,
          0.613311491807445,
          0.609004387126855,
          0.6047398193172053,
          0.6005247505772343,
          0.5963659010754178,
          0.5922697385268924,
          0.5882424686652707,
          0.5842900266179878,
          0.5804180691903265,
          0.5766319680598202,
          0.5729368038794221,
          0.5693373612846293,
          0.565838124796674,
          0.5624432756109324,
          0.5591566892569486,
          0.5559819341138034,
          0.5529222707620948,
          0.5499806521515263,
          0.5471597245609003,
          0.5444618293254493,
          0.5418890053046052,
          0.539442992061724,
          0.5371252337259156,
          0.5349368835048438,
          0.5328788088163442,
          0.5309515970058225,
          0.5291555616156814,
          0.5274907491724824,
          0.5259569464572023,
          0.5245536882236419,
          0.5232802653300686,
          0.5221357332491385,
          0.5211189209213974,
          0.5202284399179724,
          0.5194626938784649,
          0.5188198881906446,
          0.5182980398791496,
          0.517894987671151,
          0.5176084022077186,
          0.5174357963705523,
          0.5173745356946476,
          0.5174218488384837,
          0.5175748380843587,
          0.5178304898425787,
          0.5181856851343369,
          0.5186372100292094,
          0.5191817660143951,
          0.5198159802739476,
          0.520536415857401,
          0.5213395817183759,
          0.5222219426048548,
          0.523179928783968,
          0.5242099455852406,
          0.5253083827472796,
          0.526471623554035,
          0.5276960537476787,
          0.5289780702062108,
          0.5303140893748218,
          0.5317005554409596,
          0.5331339482439207,
          0.5346107909106247,
          0.5361276572100018,
          0.5376811786191987,
          0.5392680510954976,
          0.5408850415484993,
          0.5425289940077667,
          0.5441968354816857,
          0.545885581503856,
          0.5475923413638245,
          0.5493143230194364,
          0.5510488376885232,
          0.5527933041180405,
          0.5545452525291256,
          0.5563023282369037,
          0.5580622949441759,
          0.5598230377083915,
          0.5615825655816058,
          0.5633390139233215,
          0.5650906463864017,
          0.5668358565763636,
          0.5685731693846645,
          0.5703012419966592,
          0.5720188645752092,
          0.5737249606209677,
          0.5754185870106326,
          0.5770989337145597,
          0.5787653231953223,
          0.5804172094889364,
          0.5820541769706957,
          0.5836759388076581,
          0.5852823351000855,
          0.5868733307142752,
          0.588449012809461,
          0.5900095880616613,
          0.5915553795876064,
          0.5930868235720907,
          0.5946044656024255,
          0.5961089567139063,
          0.5976010491505392,
          0.5990815918456204,
          0.6005515256271083,
          0.6020118781531156,
          0.6034637585832622,
          0.6049083519920833,
          0.6063469135311377,
          0.6077807623469582,
          0.609211275262549,
          0.6106398802306283,
          0.6120680495674814,
          0.6134972929768262,
          0.6149291503738008,
          0.6163651845198285,
          0.617806973479823,
          0.6192561029139296,
          0.6207141582167592,
          0.6221827165178181,
          0.6236633385577044,
          0.6251575604553727,
          0.6266668853826809,
          0.628192775163224,
          0.6297366418133711,
          0.6312998390442202,
          0.6328836537441058,
          0.6344892974621189,
          0.6361178979139837,
          0.63777049053241,
          0.6394480100849484,
          0.6411512823830782,
          0.6428810161070733,
          0.6446377947718894,
          0.6464220688599961,
          0.6482341481476921,
          0.6500741942520036,
          0.6519422134257653,
          0.6538380496288869,
          0.655761377904161,
          0.6577116980861712,
          0.6596883288720679,
          0.661690402282951,
          0.66371685854456,
          0.6657664414157867,
          0.6678376939931706,
          0.6699289550191267,
          0.6720383557210228,
          0.6741638172075378,
          0.6763030484478054,
          0.6784535448578609,
          0.6806125875176721,
          0.6827772430407663,
          0.6849443641168889,
          0.6871105907465291,
          0.6892723521843211,
          0.6914258696063349,
          0.693567159514219,
          0.6956920378867988,
          0.6977961250874013,
          0.6998748515326072,
          0.7019234641254105,
          0.703937033453062,
          0.70591046174687,
          0.7078384915982864,
          0.7097157154224998,
          0.7115365856575634,
          0.7132954256839001,
          0.7149864414457047,
          0.7166037337525095,
          0.7181413112358161,
          0.7195931039324395,
          0.720952977462845,
          0.7222147477696272,
          0.7233721963779658,
          0.7244190861369126,
          0.7253491773972489,
          0.7261562445788681,
          0.7268340930778198,
          0.7273765764606008,
          0.7277776138908445,
          0.7280312077313676,
          0.7281314612625174,
          0.7280725964559689,
          0.7278489717416128,
          0.7274550997039052,
          0.7268856646430258,
          0.7261355399354761,
          0.7251998051283577,
          0.7240737627014332,
          0.7227529544312116,
          0.7212331772919365,
          0.7195104988290204,
          0.7175812719417576,
          0.715442149013516,
          0.7130900953294522,
          0.7105224017238937,
          0.7077366964018891,
          0.7047309558821997,
          0.701503515011986,
          0.6980530760066854,
          0.694378716472164,
          0.6904798963699693,
          0.686356463890575,
          0.6820086602036806,
          0.6774371230590914,
          0.6726428892162508,
          0.6676273956852601,
          0.662392479767037,
          0.6569403778852264,
          0.6512737232074804
         ],
         "yaxis": "y"
        },
        {
         "legendgroup": "distplot",
         "marker": {
          "color": "rgb(31, 119, 180)",
          "symbol": "line-ns-open"
         },
         "mode": "markers",
         "name": "distplot",
         "showlegend": false,
         "type": "scatter",
         "x": [
          0.18641,
          -0.13738,
          0.56045,
          -0.32382,
          -0.04608,
          -0.00039,
          -0.13832,
          0,
          0.38895,
          -0.08208,
          0.22995,
          1,
          0.64727,
          1,
          1,
          0,
          0.70941,
          1,
          1,
          1,
          0.74354,
          -1,
          0.52099,
          0,
          0.64207,
          1,
          -0.13341,
          -1,
          0.52479,
          1,
          1,
          1,
          0.42189,
          -0.23185999999999998,
          1,
          1,
          0.83867,
          0,
          0.65258,
          1,
          0.0699,
          0,
          0.12137,
          1,
          0.49195,
          0,
          0.75115,
          -0.06117,
          0.7432300000000001,
          0,
          0.9332299999999999,
          0,
          1,
          1,
          0.8216600000000001,
          -1,
          0.73992,
          -1,
          0.8357399999999999,
          0,
          0.54252,
          1,
          0.22100999999999998,
          1,
          0.5138199999999999,
          1,
          0.80355,
          1,
          0.98816,
          1,
          0.7149300000000001,
          1,
          0.09047999999999999,
          0,
          0.33381,
          1,
          0.40442,
          -1,
          -0.81383,
          -1,
          1,
          1,
          -0.04023,
          -0.04013,
          0.56361,
          0.34410999999999997,
          0.7320800000000001,
          1,
          0.43137,
          -0.00526,
          0.52361,
          -0.18494000000000002,
          0.50435,
          0.52632,
          0.39559,
          0,
          -0.67699,
          -0.59943,
          0,
          0.57455,
          0,
          0.87011,
          0,
          0.69531,
          0,
          1,
          0,
          0.76586,
          0,
          0.30445,
          0,
          -0.42912,
          0,
          -0.37432,
          0,
          0.14694000000000002,
          0.4918,
          0.5884,
          0.25440999999999997,
          1,
          0.29091,
          0.43396,
          0.2619,
          0.33333,
          0,
          0.18632,
          0.81979,
          0.9314399999999999,
          0,
          0.9842,
          0.28919,
          0.17073,
          0,
          -0.26531,
          0,
          -0.28676,
          -0.40201,
          0.41667,
          -8e-05,
          0.51351,
          -1,
          0.9583799999999999,
          1,
          -8e-05,
          0.47058999999999995,
          0.00025,
          0,
          1,
          1,
          0.9786100000000001,
          0.40445,
          0.6333300000000001,
          0.04749,
          0.50376,
          -0.04598,
          0.79015,
          -0.01427,
          0.2672,
          0.1167,
          -0.21572,
          0.00705,
          0.79089,
          -1,
          -0.11215,
          0,
          -0.11765,
          -1,
          -0.55556,
          0,
          0.67493,
          0,
          1,
          0,
          1,
          0.17045,
          1,
          -0.67553,
          0.70833,
          0.16827,
          0.29220999999999997,
          0.82895,
          0.18353,
          0,
          -0.07457000000000001,
          0.47568999999999995,
          -0.004220000000000001,
          0,
          1,
          0,
          1,
          0,
          0.013359999999999999,
          -0.19792,
          0.18086,
          -1,
          0.85841,
          1,
          0.9652299999999999,
          0.00015,
          1,
          0,
          0.13994,
          0,
          0.86364,
          0,
          0.91176,
          0.14939000000000002,
          0.57418,
          0,
          0.72727,
          0,
          0.28985,
          0,
          1,
          1,
          -0.06738999999999999,
          1,
          0.11573,
          0,
          -0.47418999999999994,
          -1,
          -0.23845999999999998,
          1,
          -0.10289000000000001,
          0,
          -0.5623100000000001,
          0,
          0.42152,
          1,
          0.30588000000000004,
          0,
          1,
          -1,
          0.54632,
          0.56522,
          1,
          -0.19066,
          0.625,
          0.07389,
          0.65213,
          0,
          0.9174700000000001,
          0,
          0.8678600000000001,
          0.9066700000000001,
          0.8214299999999999,
          0,
          0.5896100000000001,
          0,
          0.02249,
          1,
          0.5146,
          0,
          0.34749,
          0.12197000000000001,
          -0.039830000000000004,
          0.6137199999999999,
          0.6029399999999999,
          0.5060899999999999,
          0.64407,
          0.44783,
          -0.27339,
          -0.42815,
          -0.48808,
          -0.8121,
          -0.64056,
          -0.11894,
          0.40821,
          0.56167,
          0.42223,
          0.9222600000000001,
          0.45361,
          0.69053,
          0.60674,
          0.30421,
          0.51358,
          0.50169,
          0.37379,
          -0.33483,
          -0.6413399999999999,
          -0.47201000000000004,
          -0.66932,
          -0.08937,
          0.42805,
          0.0029,
          0.44766999999999996,
          0.16655,
          0.77269,
          0.8823799999999999,
          0.72837,
          0.34615,
          0.6742,
          0.65817,
          0.79076,
          0.6106699999999999,
          0.56319,
          -0.19312,
          0.10007,
          0.0019399999999999999,
          0.40591,
          0.59407,
          0.64662,
          0.96778,
          0.9204899999999999,
          0.96575,
          0.76271,
          0.08333,
          -0.9190299999999999,
          -0.19609000000000001,
          0.48318999999999995,
          0.7482800000000001,
          0.76066,
          1,
          0.78761,
          0.34571999999999997,
          0.62765,
          0.76862,
          0.83544,
          0.5533,
          0.8425799999999999,
          0.9897100000000001,
          0.8673299999999999,
          0.9361700000000001,
          0.39394,
          0.40956,
          0.60073,
          0.75495,
          0.17758,
          0.09091,
          0.9756100000000001,
          0.92553,
          0.80774,
          0.80088,
          0.98934,
          0.98674,
          1,
          0.56286,
          0.70555,
          0.13376,
          -0.18533,
          -0.30153,
          0.9724700000000001,
          0.7843899999999999,
          0.28943,
          0.6388699999999999,
          0.13934000000000002,
          0.90546,
          0.9148299999999999,
          0.9269700000000001,
          0.87403,
          0.85764
         ],
         "xaxis": "x",
         "y": [
          "distplot",
          "distplot",
          "distplot",
          "distplot",
          "distplot",
          "distplot",
          "distplot",
          "distplot",
          "distplot",
          "distplot",
          "distplot",
          "distplot",
          "distplot",
          "distplot",
          "distplot",
          "distplot",
          "distplot",
          "distplot",
          "distplot",
          "distplot",
          "distplot",
          "distplot",
          "distplot",
          "distplot",
          "distplot",
          "distplot",
          "distplot",
          "distplot",
          "distplot",
          "distplot",
          "distplot",
          "distplot",
          "distplot",
          "distplot",
          "distplot",
          "distplot",
          "distplot",
          "distplot",
          "distplot",
          "distplot",
          "distplot",
          "distplot",
          "distplot",
          "distplot",
          "distplot",
          "distplot",
          "distplot",
          "distplot",
          "distplot",
          "distplot",
          "distplot",
          "distplot",
          "distplot",
          "distplot",
          "distplot",
          "distplot",
          "distplot",
          "distplot",
          "distplot",
          "distplot",
          "distplot",
          "distplot",
          "distplot",
          "distplot",
          "distplot",
          "distplot",
          "distplot",
          "distplot",
          "distplot",
          "distplot",
          "distplot",
          "distplot",
          "distplot",
          "distplot",
          "distplot",
          "distplot",
          "distplot",
          "distplot",
          "distplot",
          "distplot",
          "distplot",
          "distplot",
          "distplot",
          "distplot",
          "distplot",
          "distplot",
          "distplot",
          "distplot",
          "distplot",
          "distplot",
          "distplot",
          "distplot",
          "distplot",
          "distplot",
          "distplot",
          "distplot",
          "distplot",
          "distplot",
          "distplot",
          "distplot",
          "distplot",
          "distplot",
          "distplot",
          "distplot",
          "distplot",
          "distplot",
          "distplot",
          "distplot",
          "distplot",
          "distplot",
          "distplot",
          "distplot",
          "distplot",
          "distplot",
          "distplot",
          "distplot",
          "distplot",
          "distplot",
          "distplot",
          "distplot",
          "distplot",
          "distplot",
          "distplot",
          "distplot",
          "distplot",
          "distplot",
          "distplot",
          "distplot",
          "distplot",
          "distplot",
          "distplot",
          "distplot",
          "distplot",
          "distplot",
          "distplot",
          "distplot",
          "distplot",
          "distplot",
          "distplot",
          "distplot",
          "distplot",
          "distplot",
          "distplot",
          "distplot",
          "distplot",
          "distplot",
          "distplot",
          "distplot",
          "distplot",
          "distplot",
          "distplot",
          "distplot",
          "distplot",
          "distplot",
          "distplot",
          "distplot",
          "distplot",
          "distplot",
          "distplot",
          "distplot",
          "distplot",
          "distplot",
          "distplot",
          "distplot",
          "distplot",
          "distplot",
          "distplot",
          "distplot",
          "distplot",
          "distplot",
          "distplot",
          "distplot",
          "distplot",
          "distplot",
          "distplot",
          "distplot",
          "distplot",
          "distplot",
          "distplot",
          "distplot",
          "distplot",
          "distplot",
          "distplot",
          "distplot",
          "distplot",
          "distplot",
          "distplot",
          "distplot",
          "distplot",
          "distplot",
          "distplot",
          "distplot",
          "distplot",
          "distplot",
          "distplot",
          "distplot",
          "distplot",
          "distplot",
          "distplot",
          "distplot",
          "distplot",
          "distplot",
          "distplot",
          "distplot",
          "distplot",
          "distplot",
          "distplot",
          "distplot",
          "distplot",
          "distplot",
          "distplot",
          "distplot",
          "distplot",
          "distplot",
          "distplot",
          "distplot",
          "distplot",
          "distplot",
          "distplot",
          "distplot",
          "distplot",
          "distplot",
          "distplot",
          "distplot",
          "distplot",
          "distplot",
          "distplot",
          "distplot",
          "distplot",
          "distplot",
          "distplot",
          "distplot",
          "distplot",
          "distplot",
          "distplot",
          "distplot",
          "distplot",
          "distplot",
          "distplot",
          "distplot",
          "distplot",
          "distplot",
          "distplot",
          "distplot",
          "distplot",
          "distplot",
          "distplot",
          "distplot",
          "distplot",
          "distplot",
          "distplot",
          "distplot",
          "distplot",
          "distplot",
          "distplot",
          "distplot",
          "distplot",
          "distplot",
          "distplot",
          "distplot",
          "distplot",
          "distplot",
          "distplot",
          "distplot",
          "distplot",
          "distplot",
          "distplot",
          "distplot",
          "distplot",
          "distplot",
          "distplot",
          "distplot",
          "distplot",
          "distplot",
          "distplot",
          "distplot",
          "distplot",
          "distplot",
          "distplot",
          "distplot",
          "distplot",
          "distplot",
          "distplot",
          "distplot",
          "distplot",
          "distplot",
          "distplot",
          "distplot",
          "distplot",
          "distplot",
          "distplot",
          "distplot",
          "distplot",
          "distplot",
          "distplot",
          "distplot",
          "distplot",
          "distplot",
          "distplot",
          "distplot",
          "distplot",
          "distplot",
          "distplot",
          "distplot",
          "distplot",
          "distplot",
          "distplot",
          "distplot",
          "distplot",
          "distplot",
          "distplot",
          "distplot",
          "distplot",
          "distplot",
          "distplot",
          "distplot",
          "distplot",
          "distplot",
          "distplot",
          "distplot",
          "distplot",
          "distplot",
          "distplot",
          "distplot",
          "distplot",
          "distplot",
          "distplot",
          "distplot",
          "distplot",
          "distplot",
          "distplot",
          "distplot",
          "distplot",
          "distplot",
          "distplot",
          "distplot",
          "distplot",
          "distplot",
          "distplot",
          "distplot",
          "distplot",
          "distplot",
          "distplot",
          "distplot",
          "distplot",
          "distplot",
          "distplot",
          "distplot",
          "distplot",
          "distplot",
          "distplot"
         ],
         "yaxis": "y2"
        }
       ],
       "layout": {
        "barmode": "overlay",
        "hovermode": "closest",
        "legend": {
         "traceorder": "reversed"
        },
        "template": {
         "data": {
          "bar": [
           {
            "error_x": {
             "color": "#2a3f5f"
            },
            "error_y": {
             "color": "#2a3f5f"
            },
            "marker": {
             "line": {
              "color": "#E5ECF6",
              "width": 0.5
             }
            },
            "type": "bar"
           }
          ],
          "barpolar": [
           {
            "marker": {
             "line": {
              "color": "#E5ECF6",
              "width": 0.5
             }
            },
            "type": "barpolar"
           }
          ],
          "carpet": [
           {
            "aaxis": {
             "endlinecolor": "#2a3f5f",
             "gridcolor": "white",
             "linecolor": "white",
             "minorgridcolor": "white",
             "startlinecolor": "#2a3f5f"
            },
            "baxis": {
             "endlinecolor": "#2a3f5f",
             "gridcolor": "white",
             "linecolor": "white",
             "minorgridcolor": "white",
             "startlinecolor": "#2a3f5f"
            },
            "type": "carpet"
           }
          ],
          "choropleth": [
           {
            "colorbar": {
             "outlinewidth": 0,
             "ticks": ""
            },
            "type": "choropleth"
           }
          ],
          "contour": [
           {
            "colorbar": {
             "outlinewidth": 0,
             "ticks": ""
            },
            "colorscale": [
             [
              0,
              "#0d0887"
             ],
             [
              0.1111111111111111,
              "#46039f"
             ],
             [
              0.2222222222222222,
              "#7201a8"
             ],
             [
              0.3333333333333333,
              "#9c179e"
             ],
             [
              0.4444444444444444,
              "#bd3786"
             ],
             [
              0.5555555555555556,
              "#d8576b"
             ],
             [
              0.6666666666666666,
              "#ed7953"
             ],
             [
              0.7777777777777778,
              "#fb9f3a"
             ],
             [
              0.8888888888888888,
              "#fdca26"
             ],
             [
              1,
              "#f0f921"
             ]
            ],
            "type": "contour"
           }
          ],
          "contourcarpet": [
           {
            "colorbar": {
             "outlinewidth": 0,
             "ticks": ""
            },
            "type": "contourcarpet"
           }
          ],
          "heatmap": [
           {
            "colorbar": {
             "outlinewidth": 0,
             "ticks": ""
            },
            "colorscale": [
             [
              0,
              "#0d0887"
             ],
             [
              0.1111111111111111,
              "#46039f"
             ],
             [
              0.2222222222222222,
              "#7201a8"
             ],
             [
              0.3333333333333333,
              "#9c179e"
             ],
             [
              0.4444444444444444,
              "#bd3786"
             ],
             [
              0.5555555555555556,
              "#d8576b"
             ],
             [
              0.6666666666666666,
              "#ed7953"
             ],
             [
              0.7777777777777778,
              "#fb9f3a"
             ],
             [
              0.8888888888888888,
              "#fdca26"
             ],
             [
              1,
              "#f0f921"
             ]
            ],
            "type": "heatmap"
           }
          ],
          "heatmapgl": [
           {
            "colorbar": {
             "outlinewidth": 0,
             "ticks": ""
            },
            "colorscale": [
             [
              0,
              "#0d0887"
             ],
             [
              0.1111111111111111,
              "#46039f"
             ],
             [
              0.2222222222222222,
              "#7201a8"
             ],
             [
              0.3333333333333333,
              "#9c179e"
             ],
             [
              0.4444444444444444,
              "#bd3786"
             ],
             [
              0.5555555555555556,
              "#d8576b"
             ],
             [
              0.6666666666666666,
              "#ed7953"
             ],
             [
              0.7777777777777778,
              "#fb9f3a"
             ],
             [
              0.8888888888888888,
              "#fdca26"
             ],
             [
              1,
              "#f0f921"
             ]
            ],
            "type": "heatmapgl"
           }
          ],
          "histogram": [
           {
            "marker": {
             "colorbar": {
              "outlinewidth": 0,
              "ticks": ""
             }
            },
            "type": "histogram"
           }
          ],
          "histogram2d": [
           {
            "colorbar": {
             "outlinewidth": 0,
             "ticks": ""
            },
            "colorscale": [
             [
              0,
              "#0d0887"
             ],
             [
              0.1111111111111111,
              "#46039f"
             ],
             [
              0.2222222222222222,
              "#7201a8"
             ],
             [
              0.3333333333333333,
              "#9c179e"
             ],
             [
              0.4444444444444444,
              "#bd3786"
             ],
             [
              0.5555555555555556,
              "#d8576b"
             ],
             [
              0.6666666666666666,
              "#ed7953"
             ],
             [
              0.7777777777777778,
              "#fb9f3a"
             ],
             [
              0.8888888888888888,
              "#fdca26"
             ],
             [
              1,
              "#f0f921"
             ]
            ],
            "type": "histogram2d"
           }
          ],
          "histogram2dcontour": [
           {
            "colorbar": {
             "outlinewidth": 0,
             "ticks": ""
            },
            "colorscale": [
             [
              0,
              "#0d0887"
             ],
             [
              0.1111111111111111,
              "#46039f"
             ],
             [
              0.2222222222222222,
              "#7201a8"
             ],
             [
              0.3333333333333333,
              "#9c179e"
             ],
             [
              0.4444444444444444,
              "#bd3786"
             ],
             [
              0.5555555555555556,
              "#d8576b"
             ],
             [
              0.6666666666666666,
              "#ed7953"
             ],
             [
              0.7777777777777778,
              "#fb9f3a"
             ],
             [
              0.8888888888888888,
              "#fdca26"
             ],
             [
              1,
              "#f0f921"
             ]
            ],
            "type": "histogram2dcontour"
           }
          ],
          "mesh3d": [
           {
            "colorbar": {
             "outlinewidth": 0,
             "ticks": ""
            },
            "type": "mesh3d"
           }
          ],
          "parcoords": [
           {
            "line": {
             "colorbar": {
              "outlinewidth": 0,
              "ticks": ""
             }
            },
            "type": "parcoords"
           }
          ],
          "pie": [
           {
            "automargin": true,
            "type": "pie"
           }
          ],
          "scatter": [
           {
            "marker": {
             "colorbar": {
              "outlinewidth": 0,
              "ticks": ""
             }
            },
            "type": "scatter"
           }
          ],
          "scatter3d": [
           {
            "line": {
             "colorbar": {
              "outlinewidth": 0,
              "ticks": ""
             }
            },
            "marker": {
             "colorbar": {
              "outlinewidth": 0,
              "ticks": ""
             }
            },
            "type": "scatter3d"
           }
          ],
          "scattercarpet": [
           {
            "marker": {
             "colorbar": {
              "outlinewidth": 0,
              "ticks": ""
             }
            },
            "type": "scattercarpet"
           }
          ],
          "scattergeo": [
           {
            "marker": {
             "colorbar": {
              "outlinewidth": 0,
              "ticks": ""
             }
            },
            "type": "scattergeo"
           }
          ],
          "scattergl": [
           {
            "marker": {
             "colorbar": {
              "outlinewidth": 0,
              "ticks": ""
             }
            },
            "type": "scattergl"
           }
          ],
          "scattermapbox": [
           {
            "marker": {
             "colorbar": {
              "outlinewidth": 0,
              "ticks": ""
             }
            },
            "type": "scattermapbox"
           }
          ],
          "scatterpolar": [
           {
            "marker": {
             "colorbar": {
              "outlinewidth": 0,
              "ticks": ""
             }
            },
            "type": "scatterpolar"
           }
          ],
          "scatterpolargl": [
           {
            "marker": {
             "colorbar": {
              "outlinewidth": 0,
              "ticks": ""
             }
            },
            "type": "scatterpolargl"
           }
          ],
          "scatterternary": [
           {
            "marker": {
             "colorbar": {
              "outlinewidth": 0,
              "ticks": ""
             }
            },
            "type": "scatterternary"
           }
          ],
          "surface": [
           {
            "colorbar": {
             "outlinewidth": 0,
             "ticks": ""
            },
            "colorscale": [
             [
              0,
              "#0d0887"
             ],
             [
              0.1111111111111111,
              "#46039f"
             ],
             [
              0.2222222222222222,
              "#7201a8"
             ],
             [
              0.3333333333333333,
              "#9c179e"
             ],
             [
              0.4444444444444444,
              "#bd3786"
             ],
             [
              0.5555555555555556,
              "#d8576b"
             ],
             [
              0.6666666666666666,
              "#ed7953"
             ],
             [
              0.7777777777777778,
              "#fb9f3a"
             ],
             [
              0.8888888888888888,
              "#fdca26"
             ],
             [
              1,
              "#f0f921"
             ]
            ],
            "type": "surface"
           }
          ],
          "table": [
           {
            "cells": {
             "fill": {
              "color": "#EBF0F8"
             },
             "line": {
              "color": "white"
             }
            },
            "header": {
             "fill": {
              "color": "#C8D4E3"
             },
             "line": {
              "color": "white"
             }
            },
            "type": "table"
           }
          ]
         },
         "layout": {
          "annotationdefaults": {
           "arrowcolor": "#2a3f5f",
           "arrowhead": 0,
           "arrowwidth": 1
          },
          "coloraxis": {
           "colorbar": {
            "outlinewidth": 0,
            "ticks": ""
           }
          },
          "colorscale": {
           "diverging": [
            [
             0,
             "#8e0152"
            ],
            [
             0.1,
             "#c51b7d"
            ],
            [
             0.2,
             "#de77ae"
            ],
            [
             0.3,
             "#f1b6da"
            ],
            [
             0.4,
             "#fde0ef"
            ],
            [
             0.5,
             "#f7f7f7"
            ],
            [
             0.6,
             "#e6f5d0"
            ],
            [
             0.7,
             "#b8e186"
            ],
            [
             0.8,
             "#7fbc41"
            ],
            [
             0.9,
             "#4d9221"
            ],
            [
             1,
             "#276419"
            ]
           ],
           "sequential": [
            [
             0,
             "#0d0887"
            ],
            [
             0.1111111111111111,
             "#46039f"
            ],
            [
             0.2222222222222222,
             "#7201a8"
            ],
            [
             0.3333333333333333,
             "#9c179e"
            ],
            [
             0.4444444444444444,
             "#bd3786"
            ],
            [
             0.5555555555555556,
             "#d8576b"
            ],
            [
             0.6666666666666666,
             "#ed7953"
            ],
            [
             0.7777777777777778,
             "#fb9f3a"
            ],
            [
             0.8888888888888888,
             "#fdca26"
            ],
            [
             1,
             "#f0f921"
            ]
           ],
           "sequentialminus": [
            [
             0,
             "#0d0887"
            ],
            [
             0.1111111111111111,
             "#46039f"
            ],
            [
             0.2222222222222222,
             "#7201a8"
            ],
            [
             0.3333333333333333,
             "#9c179e"
            ],
            [
             0.4444444444444444,
             "#bd3786"
            ],
            [
             0.5555555555555556,
             "#d8576b"
            ],
            [
             0.6666666666666666,
             "#ed7953"
            ],
            [
             0.7777777777777778,
             "#fb9f3a"
            ],
            [
             0.8888888888888888,
             "#fdca26"
            ],
            [
             1,
             "#f0f921"
            ]
           ]
          },
          "colorway": [
           "#636efa",
           "#EF553B",
           "#00cc96",
           "#ab63fa",
           "#FFA15A",
           "#19d3f3",
           "#FF6692",
           "#B6E880",
           "#FF97FF",
           "#FECB52"
          ],
          "font": {
           "color": "#2a3f5f"
          },
          "geo": {
           "bgcolor": "white",
           "lakecolor": "white",
           "landcolor": "#E5ECF6",
           "showlakes": true,
           "showland": true,
           "subunitcolor": "white"
          },
          "hoverlabel": {
           "align": "left"
          },
          "hovermode": "closest",
          "mapbox": {
           "style": "light"
          },
          "paper_bgcolor": "white",
          "plot_bgcolor": "#E5ECF6",
          "polar": {
           "angularaxis": {
            "gridcolor": "white",
            "linecolor": "white",
            "ticks": ""
           },
           "bgcolor": "#E5ECF6",
           "radialaxis": {
            "gridcolor": "white",
            "linecolor": "white",
            "ticks": ""
           }
          },
          "scene": {
           "xaxis": {
            "backgroundcolor": "#E5ECF6",
            "gridcolor": "white",
            "gridwidth": 2,
            "linecolor": "white",
            "showbackground": true,
            "ticks": "",
            "zerolinecolor": "white"
           },
           "yaxis": {
            "backgroundcolor": "#E5ECF6",
            "gridcolor": "white",
            "gridwidth": 2,
            "linecolor": "white",
            "showbackground": true,
            "ticks": "",
            "zerolinecolor": "white"
           },
           "zaxis": {
            "backgroundcolor": "#E5ECF6",
            "gridcolor": "white",
            "gridwidth": 2,
            "linecolor": "white",
            "showbackground": true,
            "ticks": "",
            "zerolinecolor": "white"
           }
          },
          "shapedefaults": {
           "line": {
            "color": "#2a3f5f"
           }
          },
          "ternary": {
           "aaxis": {
            "gridcolor": "white",
            "linecolor": "white",
            "ticks": ""
           },
           "baxis": {
            "gridcolor": "white",
            "linecolor": "white",
            "ticks": ""
           },
           "bgcolor": "#E5ECF6",
           "caxis": {
            "gridcolor": "white",
            "linecolor": "white",
            "ticks": ""
           }
          },
          "title": {
           "x": 0.05
          },
          "xaxis": {
           "automargin": true,
           "gridcolor": "white",
           "linecolor": "white",
           "ticks": "",
           "title": {
            "standoff": 15
           },
           "zerolinecolor": "white",
           "zerolinewidth": 2
          },
          "yaxis": {
           "automargin": true,
           "gridcolor": "white",
           "linecolor": "white",
           "ticks": "",
           "title": {
            "standoff": 15
           },
           "zerolinecolor": "white",
           "zerolinewidth": 2
          }
         }
        },
        "xaxis": {
         "anchor": "y2",
         "domain": [
          0,
          1
         ],
         "zeroline": false
        },
        "yaxis": {
         "anchor": "free",
         "domain": [
          0.35,
          1
         ],
         "position": 0
        },
        "yaxis2": {
         "anchor": "x",
         "domain": [
          0,
          0.25
         ],
         "dtick": 1,
         "showticklabels": false
        }
       }
      },
      "text/html": [
       "<div>\n",
       "        \n",
       "        \n",
       "            <div id=\"4320fef7-3bbe-40b3-be1a-51e68c3c0d66\" class=\"plotly-graph-div\" style=\"height:525px; width:100%;\"></div>\n",
       "            <script type=\"text/javascript\">\n",
       "                require([\"plotly\"], function(Plotly) {\n",
       "                    window.PLOTLYENV=window.PLOTLYENV || {};\n",
       "                    \n",
       "                if (document.getElementById(\"4320fef7-3bbe-40b3-be1a-51e68c3c0d66\")) {\n",
       "                    Plotly.newPlot(\n",
       "                        '4320fef7-3bbe-40b3-be1a-51e68c3c0d66',\n",
       "                        [{\"autobinx\": false, \"histnorm\": \"probability density\", \"legendgroup\": \"distplot\", \"marker\": {\"color\": \"rgb(31, 119, 180)\"}, \"name\": \"distplot\", \"opacity\": 0.7, \"type\": \"histogram\", \"x\": [0.18641, -0.13738, 0.56045, -0.32382, -0.04608, -0.00039, -0.13832, 0.0, 0.38895, -0.08208, 0.22995, 1.0, 0.64727, 1.0, 1.0, 0.0, 0.70941, 1.0, 1.0, 1.0, 0.74354, -1.0, 0.52099, 0.0, 0.64207, 1.0, -0.13341, -1.0, 0.52479, 1.0, 1.0, 1.0, 0.42189, -0.23185999999999998, 1.0, 1.0, 0.83867, 0.0, 0.65258, 1.0, 0.0699, 0.0, 0.12137, 1.0, 0.49195, 0.0, 0.75115, -0.06117, 0.7432300000000001, 0.0, 0.9332299999999999, 0.0, 1.0, 1.0, 0.8216600000000001, -1.0, 0.73992, -1.0, 0.8357399999999999, 0.0, 0.54252, 1.0, 0.22100999999999998, 1.0, 0.5138199999999999, 1.0, 0.80355, 1.0, 0.98816, 1.0, 0.7149300000000001, 1.0, 0.09047999999999999, 0.0, 0.33381, 1.0, 0.40442, -1.0, -0.81383, -1.0, 1.0, 1.0, -0.04023, -0.04013, 0.56361, 0.34410999999999997, 0.7320800000000001, 1.0, 0.43137, -0.00526, 0.52361, -0.18494000000000002, 0.50435, 0.52632, 0.39559, 0.0, -0.67699, -0.59943, 0.0, 0.57455, 0.0, 0.87011, 0.0, 0.69531, 0.0, 1.0, 0.0, 0.76586, 0.0, 0.30445, 0.0, -0.42912, 0.0, -0.37432, 0.0, 0.14694000000000002, 0.4918, 0.5884, 0.25440999999999997, 1.0, 0.29091, 0.43396, 0.2619, 0.33333, 0.0, 0.18632, 0.81979, 0.9314399999999999, 0.0, 0.9842, 0.28919, 0.17073, 0.0, -0.26531, 0.0, -0.28676, -0.40201, 0.41667, -8e-05, 0.51351, -1.0, 0.9583799999999999, 1.0, -8e-05, 0.47058999999999995, 0.00025, 0.0, 1.0, 1.0, 0.9786100000000001, 0.40445, 0.6333300000000001, 0.04749, 0.50376, -0.04598, 0.79015, -0.01427, 0.2672, 0.1167, -0.21572, 0.00705, 0.79089, -1.0, -0.11215, 0.0, -0.11765, -1.0, -0.55556, 0.0, 0.67493, 0.0, 1.0, 0.0, 1.0, 0.17045, 1.0, -0.67553, 0.70833, 0.16827, 0.29220999999999997, 0.82895, 0.18353, 0.0, -0.07457000000000001, 0.47568999999999995, -0.004220000000000001, 0.0, 1.0, 0.0, 1.0, 0.0, 0.013359999999999999, -0.19792, 0.18086, -1.0, 0.85841, 1.0, 0.9652299999999999, 0.00015, 1.0, 0.0, 0.13994, 0.0, 0.86364, 0.0, 0.91176, 0.14939000000000002, 0.57418, 0.0, 0.72727, 0.0, 0.28985, 0.0, 1.0, 1.0, -0.06738999999999999, 1.0, 0.11573, 0.0, -0.47418999999999994, -1.0, -0.23845999999999998, 1.0, -0.10289000000000001, 0.0, -0.5623100000000001, 0.0, 0.42152, 1.0, 0.30588000000000004, 0.0, 1.0, -1.0, 0.54632, 0.56522, 1.0, -0.19066, 0.625, 0.07389, 0.65213, 0.0, 0.9174700000000001, 0.0, 0.8678600000000001, 0.9066700000000001, 0.8214299999999999, 0.0, 0.5896100000000001, 0.0, 0.02249, 1.0, 0.5146, 0.0, 0.34749, 0.12197000000000001, -0.039830000000000004, 0.6137199999999999, 0.6029399999999999, 0.5060899999999999, 0.64407, 0.44783, -0.27339, -0.42815, -0.48808, -0.8121, -0.64056, -0.11894, 0.40821, 0.56167, 0.42223, 0.9222600000000001, 0.45361, 0.69053, 0.60674, 0.30421, 0.51358, 0.50169, 0.37379, -0.33483, -0.6413399999999999, -0.47201000000000004, -0.66932, -0.08937, 0.42805, 0.0029, 0.44766999999999996, 0.16655, 0.77269, 0.8823799999999999, 0.72837, 0.34615, 0.6742, 0.65817, 0.79076, 0.6106699999999999, 0.56319, -0.19312, 0.10007, 0.0019399999999999999, 0.40591, 0.59407, 0.64662, 0.96778, 0.9204899999999999, 0.96575, 0.76271, 0.08333, -0.9190299999999999, -0.19609000000000001, 0.48318999999999995, 0.7482800000000001, 0.76066, 1.0, 0.78761, 0.34571999999999997, 0.62765, 0.76862, 0.83544, 0.5533, 0.8425799999999999, 0.9897100000000001, 0.8673299999999999, 0.9361700000000001, 0.39394, 0.40956, 0.60073, 0.75495, 0.17758, 0.09091, 0.9756100000000001, 0.92553, 0.80774, 0.80088, 0.98934, 0.98674, 1.0, 0.56286, 0.70555, 0.13376, -0.18533, -0.30153, 0.9724700000000001, 0.7843899999999999, 0.28943, 0.6388699999999999, 0.13934000000000002, 0.90546, 0.9148299999999999, 0.9269700000000001, 0.87403, 0.85764], \"xaxis\": \"x\", \"xbins\": {\"end\": 1.0, \"size\": 1.0, \"start\": -1.0}, \"yaxis\": \"y\"}, {\"legendgroup\": \"distplot\", \"marker\": {\"color\": \"rgb(31, 119, 180)\"}, \"mode\": \"lines\", \"name\": \"distplot\", \"showlegend\": false, \"type\": \"scatter\", \"x\": [-1.0, -0.996, -0.992, -0.988, -0.984, -0.98, -0.976, -0.972, -0.968, -0.964, -0.96, -0.956, -0.952, -0.948, -0.944, -0.94, -0.9359999999999999, -0.9319999999999999, -0.928, -0.924, -0.92, -0.916, -0.912, -0.908, -0.904, -0.9, -0.896, -0.892, -0.888, -0.884, -0.88, -0.876, -0.872, -0.868, -0.864, -0.86, -0.856, -0.852, -0.848, -0.844, -0.84, -0.836, -0.832, -0.8280000000000001, -0.8240000000000001, -0.8200000000000001, -0.8160000000000001, -0.812, -0.808, -0.804, -0.8, -0.796, -0.792, -0.788, -0.784, -0.78, -0.776, -0.772, -0.768, -0.764, -0.76, -0.756, -0.752, -0.748, -0.744, -0.74, -0.736, -0.732, -0.728, -0.724, -0.72, -0.716, -0.712, -0.708, -0.704, -0.7, -0.696, -0.692, -0.688, -0.6839999999999999, -0.6799999999999999, -0.6759999999999999, -0.6719999999999999, -0.6679999999999999, -0.6639999999999999, -0.6599999999999999, -0.656, -0.652, -0.648, -0.644, -0.64, -0.636, -0.632, -0.628, -0.624, -0.62, -0.616, -0.612, -0.608, -0.604, -0.6, -0.596, -0.5920000000000001, -0.5880000000000001, -0.5840000000000001, -0.5800000000000001, -0.5760000000000001, -0.5720000000000001, -0.5680000000000001, -0.5640000000000001, -0.56, -0.556, -0.552, -0.548, -0.544, -0.54, -0.536, -0.532, -0.528, -0.524, -0.52, -0.516, -0.512, -0.508, -0.504, -0.5, -0.496, -0.492, -0.488, -0.484, -0.48, -0.476, -0.472, -0.46799999999999997, -0.46399999999999997, -0.45999999999999996, -0.45599999999999996, -0.45199999999999996, -0.44799999999999995, -0.44399999999999995, -0.43999999999999995, -0.43600000000000005, -0.43200000000000005, -0.42800000000000005, -0.42400000000000004, -0.42000000000000004, -0.41600000000000004, -0.41200000000000003, -0.40800000000000003, -0.404, -0.4, -0.396, -0.392, -0.388, -0.384, -0.38, -0.376, -0.372, -0.368, -0.364, -0.36, -0.356, -0.352, -0.348, -0.344, -0.33999999999999997, -0.33599999999999997, -0.33199999999999996, -0.32799999999999996, -0.32399999999999995, -0.31999999999999995, -0.31599999999999995, -0.31200000000000006, -0.30800000000000005, -0.30400000000000005, -0.30000000000000004, -0.29600000000000004, -0.29200000000000004, -0.28800000000000003, -0.28400000000000003, -0.28, -0.276, -0.272, -0.268, -0.264, -0.26, -0.256, -0.252, -0.248, -0.244, -0.24, -0.236, -0.23199999999999998, -0.22799999999999998, -0.22399999999999998, -0.21999999999999997, -0.21599999999999997, -0.21199999999999997, -0.20799999999999996, -0.20399999999999996, -0.19999999999999996, -0.19599999999999995, -0.19199999999999995, -0.18799999999999994, -0.18400000000000005, -0.18000000000000005, -0.17600000000000005, -0.17200000000000004, -0.16800000000000004, -0.16400000000000003, -0.16000000000000003, -0.15600000000000003, -0.15200000000000002, -0.14800000000000002, -0.14400000000000002, -0.14, -0.136, -0.132, -0.128, -0.124, -0.12, -0.11599999999999999, -0.11199999999999999, -0.10799999999999998, -0.10399999999999998, -0.09999999999999998, -0.09599999999999997, -0.09199999999999997, -0.08799999999999997, -0.08399999999999996, -0.07999999999999996, -0.07599999999999996, -0.07199999999999995, -0.06799999999999995, -0.06399999999999995, -0.06000000000000005, -0.05600000000000005, -0.052000000000000046, -0.04800000000000004, -0.04400000000000004, -0.040000000000000036, -0.03600000000000003, -0.03200000000000003, -0.028000000000000025, -0.02400000000000002, -0.020000000000000018, -0.016000000000000014, -0.01200000000000001, -0.008000000000000007, -0.0040000000000000036, 0.0, 0.0040000000000000036, 0.008000000000000007, 0.01200000000000001, 0.016000000000000014, 0.020000000000000018, 0.02400000000000002, 0.028000000000000025, 0.03200000000000003, 0.03600000000000003, 0.040000000000000036, 0.04400000000000004, 0.04800000000000004, 0.052000000000000046, 0.05600000000000005, 0.06000000000000005, 0.06400000000000006, 0.06800000000000006, 0.07200000000000006, 0.07600000000000007, 0.08000000000000007, 0.08400000000000007, 0.08800000000000008, 0.09200000000000008, 0.09600000000000009, 0.10000000000000009, 0.10400000000000009, 0.1080000000000001, 0.1120000000000001, 0.1160000000000001, 0.1200000000000001, 0.12400000000000011, 0.1279999999999999, 0.1319999999999999, 0.1359999999999999, 0.1399999999999999, 0.1439999999999999, 0.1479999999999999, 0.1519999999999999, 0.15599999999999992, 0.15999999999999992, 0.16399999999999992, 0.16799999999999993, 0.17199999999999993, 0.17599999999999993, 0.17999999999999994, 0.18399999999999994, 0.18799999999999994, 0.19199999999999995, 0.19599999999999995, 0.19999999999999996, 0.20399999999999996, 0.20799999999999996, 0.21199999999999997, 0.21599999999999997, 0.21999999999999997, 0.22399999999999998, 0.22799999999999998, 0.23199999999999998, 0.236, 0.24, 0.244, 0.248, 0.252, 0.256, 0.26, 0.264, 0.268, 0.272, 0.276, 0.28, 0.28400000000000003, 0.28800000000000003, 0.29200000000000004, 0.29600000000000004, 0.30000000000000004, 0.30400000000000005, 0.30800000000000005, 0.31200000000000006, 0.31600000000000006, 0.32000000000000006, 0.32400000000000007, 0.32800000000000007, 0.3320000000000001, 0.3360000000000001, 0.3400000000000001, 0.3440000000000001, 0.3480000000000001, 0.3520000000000001, 0.3560000000000001, 0.3600000000000001, 0.3640000000000001, 0.3680000000000001, 0.3720000000000001, 0.3759999999999999, 0.3799999999999999, 0.3839999999999999, 0.3879999999999999, 0.3919999999999999, 0.3959999999999999, 0.3999999999999999, 0.4039999999999999, 0.4079999999999999, 0.4119999999999999, 0.4159999999999999, 0.41999999999999993, 0.42399999999999993, 0.42799999999999994, 0.43199999999999994, 0.43599999999999994, 0.43999999999999995, 0.44399999999999995, 0.44799999999999995, 0.45199999999999996, 0.45599999999999996, 0.45999999999999996, 0.46399999999999997, 0.46799999999999997, 0.472, 0.476, 0.48, 0.484, 0.488, 0.492, 0.496, 0.5, 0.504, 0.508, 0.512, 0.516, 0.52, 0.524, 0.528, 0.532, 0.536, 0.54, 0.544, 0.548, 0.552, 0.556, 0.56, 0.5640000000000001, 0.5680000000000001, 0.5720000000000001, 0.5760000000000001, 0.5800000000000001, 0.5840000000000001, 0.5880000000000001, 0.5920000000000001, 0.5960000000000001, 0.6000000000000001, 0.6040000000000001, 0.6080000000000001, 0.6120000000000001, 0.6160000000000001, 0.6200000000000001, 0.6240000000000001, 0.6279999999999999, 0.6319999999999999, 0.6359999999999999, 0.6399999999999999, 0.6439999999999999, 0.6479999999999999, 0.6519999999999999, 0.6559999999999999, 0.6599999999999999, 0.6639999999999999, 0.6679999999999999, 0.6719999999999999, 0.6759999999999999, 0.6799999999999999, 0.6839999999999999, 0.688, 0.692, 0.696, 0.7, 0.704, 0.708, 0.712, 0.716, 0.72, 0.724, 0.728, 0.732, 0.736, 0.74, 0.744, 0.748, 0.752, 0.756, 0.76, 0.764, 0.768, 0.772, 0.776, 0.78, 0.784, 0.788, 0.792, 0.796, 0.8, 0.804, 0.808, 0.812, 0.8160000000000001, 0.8200000000000001, 0.8240000000000001, 0.8280000000000001, 0.8320000000000001, 0.8360000000000001, 0.8400000000000001, 0.8440000000000001, 0.8480000000000001, 0.8520000000000001, 0.8560000000000001, 0.8600000000000001, 0.8640000000000001, 0.8680000000000001, 0.8720000000000001, 0.8759999999999999, 0.8799999999999999, 0.8839999999999999, 0.8879999999999999, 0.8919999999999999, 0.8959999999999999, 0.8999999999999999, 0.9039999999999999, 0.9079999999999999, 0.9119999999999999, 0.9159999999999999, 0.9199999999999999, 0.9239999999999999, 0.9279999999999999, 0.9319999999999999, 0.9359999999999999, 0.94, 0.944, 0.948, 0.952, 0.956, 0.96, 0.964, 0.968, 0.972, 0.976, 0.98, 0.984, 0.988, 0.992, 0.996], \"xaxis\": \"x\", \"y\": [0.10246503861306308, 0.10298683811649387, 0.1034672941318363, 0.10390653725835415, 0.1043047866446702, 0.10466234924809702, 0.10497961881017775, 0.1052570745523324, 0.10549527959672299, 0.10569487911864874, 0.10585659823794, 0.10598123965795324, 0.10606968106185558, 0.10612287227691551, 0.1061418322185087, 0.1061276456264621, 0.10608145960722971, 0.10600447999617336, 0.10589796755495207, 0.10576323401965892, 0.10560163801591964, 0.10541458085764158, 0.10520350224651423, 0.10496987588967015, 0.10471520505315264, 0.10444101806898407, 0.10414886381367974, 0.10384030717603296, 0.10351692453188782, 0.10318029924341017, 0.10283201720010886, 0.102473662418486, 0.10210681271678045, 0.10173303548075018, 0.1013538835358794, 0.10097089114074112, 0.10058557011556132, 0.10019940611925766, 0.09981385508743044, 0.09943033984291003, 0.09905024688958479, 0.09867492339927796, 0.09830567440049506, 0.0979437601768533, 0.09759039388200436, 0.0972467393768313, 0.09691390929366583, 0.09659296333123063, 0.0962849067829828, 0.09599068930049888, 0.0957112038925294, 0.09544728615935855, 0.09519971376111802, 0.09496920611776888, 0.09475642433754537, 0.09456197136976961, 0.09438639237711803, 0.09423017532160691, 0.0940937517578321, 0.09397749782627962, 0.09388173543888333, 0.09380673364840784, 0.09375271019269099, 0.09371983320429843, 0.09370822307571716, 0.09371795446984527, 0.09374905846523114, 0.09380152482526048, 0.09387530438030667, 0.09397031151172083, 0.09408642672647159, 0.09422349931121718, 0.0943813500546368, 0.09455977402693215, 0.09475854340555125, 0.0949774103363761, 0.09521610981984652, 0.09547436261177054, 0.09575187812889441, 0.09604835734964888, 0.09636349570088792, 0.09669698592184951, 0.09704852089701424, 0.09741779645001149, 0.09780451409120913, 0.09820838371213401, 0.09862912622038822, 0.09906647610925358, 0.09952018395672056, 0.09999001884920482, 0.10047577072576024, 0.10097725263912667, 0.10149430293047222, 0.10202678731520912, 0.10257460087775921, 0.10313766997362354, 0.10371595403758282, 0.1043094472972881, 0.10491818039191757, 0.10554222189596973, 0.10618167974861695, 0.10683670258937168, 0.10750748100112131, 0.10819424866183615, 0.10889728340649589, 0.10961690820095756, 0.11035349202964771, 0.11110745069907438, 0.11187924755922997, 0.11266939414499522, 0.11347845073965583, 0.11430702686260306, 0.11515578168321437, 0.11602542436280353, 0.11691671432637278, 0.11783046146572909, 0.11876752627530043, 0.11972881992175263, 0.12071530424822331, 0.1217279917136929, 0.1227679452676766, 0.12383627816008273, 0.12493415368569512, 0.12606278486236464, 0.12722343404158037, 0.12841741244968197, 0.12964607965754935, 0.13091084297618025, 0.13221315677513673, 0.1335545217204126, 0.13493648392785945, 0.1363606340278896, 0.137828606136786, 0.13934207672956367, 0.1409027634089753, 0.14251242356491328, 0.14417285291817006, 0.14588588394224003, 0.14765338415661944, 0.1494772542848752, 0.1513594262706027, 0.15330186114430425, 0.15530654673417832, 0.15737549521381866, 0.159510740479904, 0.16171433535309523, 0.1639883485955545, 0.1663348617387793, 0.16875596571578055, 0.1712537572920548, 0.1738303352902831, 0.1764877966042518, 0.17922823199814808, 0.18205372168807454, 0.18496633070344862, 0.18796810402680048, 0.191061061511455, 0.19424719257757841, 0.19752845068818603, 0.2009067476078596, 0.2043839474481495, 0.2079618605049407, 0.21164223689440292, 0.21542675999554606, 0.2193170397088722, 0.22331460554208316, 0.22742089953535602, 0.23163726904024076, 0.23596495936781675, 0.2404051063233313, 0.2449587286461412, 0.24962672037535621, 0.25440984316315035, 0.25930871855927123, 0.26432382029174534, 0.26945546657027625, 0.2747038124402094, 0.2800688422162643, 0.2855503620265111, 0.29114799249818607, 0.29686116161804443, 0.30268909780082986, 0.30863082320030666, 0.3146851472979604, 0.320850660804983, 0.32712572991357103, 0.3335084909337606, 0.3399968453520485, 0.3465884553479321, 0.35328073980414254, 0.3600708708458435, 0.3669557709433174, 0.3739321106117562, 0.3809963067406205, 0.3881445215836843, 0.39537266243935437, 0.4026763820490565, 0.41005107973953847, 0.4174919033327543, 0.42499375184464483, 0.4325512789915342, 0.4401588975201555, 0.4478107843743753, 0.45550088670860994, 0.4632229287546758, 0.4709704195454683, 0.47873666149533045, 0.4865147598333543, 0.4942976328822086, 0.5020780231712081, 0.5098485093686088, 0.5176015190141332, 0.5253293420289468, 0.5330241449762884, 0.5406779860422437, 0.5482828307021942, 0.5558305680348492, 0.5633130276420147, 0.5707219971288239, 0.5780492400956345, 0.5852865145896636, 0.5924255919613067, 0.5994582760672412, 0.6063764227597733, 0.6131719595995049, 0.6198369057261972, 0.6263633918208937, 0.6327436800907368, 0.63897018420666, 0.6450354891231157, 0.6509323707084043, 0.6566538151138206, 0.662193037809863, 0.6675435022180954, 0.672698937867984, 0.6776533580090897, 0.6824010766103321, 0.6869367246798544, 0.691255265841045, 0.6953520111026555, 0.6992226327637138, 0.7028631773968566, 0.7062700778571517, 0.7094401642668956, 0.7123706739308088, 0.7150592601401405, 0.7175039998283497, 0.7197034000457266, 0.7216564032247332, 0.7233623912128551, 0.7248211880545405, 0.7260330615088825, 0.7269987232948124, 0.7277193280606055, 0.728196471079796, 0.7284321846805883, 0.728428933421026, 0.7281896080272191, 0.7277175181167945, 0.7270163837346235, 0.7260903257325206, 0.7249438550291071, 0.723581860790379, 0.7220095975755695, 0.720232671496851, 0.718257025444943, 0.7160889234361357, 0.7137349341392482, 0.7112019136438548, 0.7084969875335763, 0.7056275323303445, 0.7026011563774466, 0.6994256802306059, 0.6961091166275166, 0.6926596501071131, 0.6890856163503263, 0.6853954813142814, 0.6815978202316322, 0.6777012965463896, 0.6737146408566845, 0.669646629933856, 0.6655060658858655, 0.6613017555313422, 0.6570424900486896, 0.652737024962385, 0.6483940605263263, 0.6440222225613401, 0.6396300438011518, 0.6352259457981942, 0.6308182214373064, 0.626415018102267, 0.6220243215364676, 0.6176539404357254, 0.613311491807445, 0.609004387126855, 0.6047398193172053, 0.6005247505772343, 0.5963659010754178, 0.5922697385268924, 0.5882424686652707, 0.5842900266179878, 0.5804180691903265, 0.5766319680598202, 0.5729368038794221, 0.5693373612846293, 0.565838124796674, 0.5624432756109324, 0.5591566892569486, 0.5559819341138034, 0.5529222707620948, 0.5499806521515263, 0.5471597245609003, 0.5444618293254493, 0.5418890053046052, 0.539442992061724, 0.5371252337259156, 0.5349368835048438, 0.5328788088163442, 0.5309515970058225, 0.5291555616156814, 0.5274907491724824, 0.5259569464572023, 0.5245536882236419, 0.5232802653300686, 0.5221357332491385, 0.5211189209213974, 0.5202284399179724, 0.5194626938784649, 0.5188198881906446, 0.5182980398791496, 0.517894987671151, 0.5176084022077186, 0.5174357963705523, 0.5173745356946476, 0.5174218488384837, 0.5175748380843587, 0.5178304898425787, 0.5181856851343369, 0.5186372100292094, 0.5191817660143951, 0.5198159802739476, 0.520536415857401, 0.5213395817183759, 0.5222219426048548, 0.523179928783968, 0.5242099455852406, 0.5253083827472796, 0.526471623554035, 0.5276960537476787, 0.5289780702062108, 0.5303140893748218, 0.5317005554409596, 0.5331339482439207, 0.5346107909106247, 0.5361276572100018, 0.5376811786191987, 0.5392680510954976, 0.5408850415484993, 0.5425289940077667, 0.5441968354816857, 0.545885581503856, 0.5475923413638245, 0.5493143230194364, 0.5510488376885232, 0.5527933041180405, 0.5545452525291256, 0.5563023282369037, 0.5580622949441759, 0.5598230377083915, 0.5615825655816058, 0.5633390139233215, 0.5650906463864017, 0.5668358565763636, 0.5685731693846645, 0.5703012419966592, 0.5720188645752092, 0.5737249606209677, 0.5754185870106326, 0.5770989337145597, 0.5787653231953223, 0.5804172094889364, 0.5820541769706957, 0.5836759388076581, 0.5852823351000855, 0.5868733307142752, 0.588449012809461, 0.5900095880616613, 0.5915553795876064, 0.5930868235720907, 0.5946044656024255, 0.5961089567139063, 0.5976010491505392, 0.5990815918456204, 0.6005515256271083, 0.6020118781531156, 0.6034637585832622, 0.6049083519920833, 0.6063469135311377, 0.6077807623469582, 0.609211275262549, 0.6106398802306283, 0.6120680495674814, 0.6134972929768262, 0.6149291503738008, 0.6163651845198285, 0.617806973479823, 0.6192561029139296, 0.6207141582167592, 0.6221827165178181, 0.6236633385577044, 0.6251575604553727, 0.6266668853826809, 0.628192775163224, 0.6297366418133711, 0.6312998390442202, 0.6328836537441058, 0.6344892974621189, 0.6361178979139837, 0.63777049053241, 0.6394480100849484, 0.6411512823830782, 0.6428810161070733, 0.6446377947718894, 0.6464220688599961, 0.6482341481476921, 0.6500741942520036, 0.6519422134257653, 0.6538380496288869, 0.655761377904161, 0.6577116980861712, 0.6596883288720679, 0.661690402282951, 0.66371685854456, 0.6657664414157867, 0.6678376939931706, 0.6699289550191267, 0.6720383557210228, 0.6741638172075378, 0.6763030484478054, 0.6784535448578609, 0.6806125875176721, 0.6827772430407663, 0.6849443641168889, 0.6871105907465291, 0.6892723521843211, 0.6914258696063349, 0.693567159514219, 0.6956920378867988, 0.6977961250874013, 0.6998748515326072, 0.7019234641254105, 0.703937033453062, 0.70591046174687, 0.7078384915982864, 0.7097157154224998, 0.7115365856575634, 0.7132954256839001, 0.7149864414457047, 0.7166037337525095, 0.7181413112358161, 0.7195931039324395, 0.720952977462845, 0.7222147477696272, 0.7233721963779658, 0.7244190861369126, 0.7253491773972489, 0.7261562445788681, 0.7268340930778198, 0.7273765764606008, 0.7277776138908445, 0.7280312077313676, 0.7281314612625174, 0.7280725964559689, 0.7278489717416128, 0.7274550997039052, 0.7268856646430258, 0.7261355399354761, 0.7251998051283577, 0.7240737627014332, 0.7227529544312116, 0.7212331772919365, 0.7195104988290204, 0.7175812719417576, 0.715442149013516, 0.7130900953294522, 0.7105224017238937, 0.7077366964018891, 0.7047309558821997, 0.701503515011986, 0.6980530760066854, 0.694378716472164, 0.6904798963699693, 0.686356463890575, 0.6820086602036806, 0.6774371230590914, 0.6726428892162508, 0.6676273956852601, 0.662392479767037, 0.6569403778852264, 0.6512737232074804], \"yaxis\": \"y\"}, {\"legendgroup\": \"distplot\", \"marker\": {\"color\": \"rgb(31, 119, 180)\", \"symbol\": \"line-ns-open\"}, \"mode\": \"markers\", \"name\": \"distplot\", \"showlegend\": false, \"type\": \"scatter\", \"x\": [0.18641, -0.13738, 0.56045, -0.32382, -0.04608, -0.00039, -0.13832, 0.0, 0.38895, -0.08208, 0.22995, 1.0, 0.64727, 1.0, 1.0, 0.0, 0.70941, 1.0, 1.0, 1.0, 0.74354, -1.0, 0.52099, 0.0, 0.64207, 1.0, -0.13341, -1.0, 0.52479, 1.0, 1.0, 1.0, 0.42189, -0.23185999999999998, 1.0, 1.0, 0.83867, 0.0, 0.65258, 1.0, 0.0699, 0.0, 0.12137, 1.0, 0.49195, 0.0, 0.75115, -0.06117, 0.7432300000000001, 0.0, 0.9332299999999999, 0.0, 1.0, 1.0, 0.8216600000000001, -1.0, 0.73992, -1.0, 0.8357399999999999, 0.0, 0.54252, 1.0, 0.22100999999999998, 1.0, 0.5138199999999999, 1.0, 0.80355, 1.0, 0.98816, 1.0, 0.7149300000000001, 1.0, 0.09047999999999999, 0.0, 0.33381, 1.0, 0.40442, -1.0, -0.81383, -1.0, 1.0, 1.0, -0.04023, -0.04013, 0.56361, 0.34410999999999997, 0.7320800000000001, 1.0, 0.43137, -0.00526, 0.52361, -0.18494000000000002, 0.50435, 0.52632, 0.39559, 0.0, -0.67699, -0.59943, 0.0, 0.57455, 0.0, 0.87011, 0.0, 0.69531, 0.0, 1.0, 0.0, 0.76586, 0.0, 0.30445, 0.0, -0.42912, 0.0, -0.37432, 0.0, 0.14694000000000002, 0.4918, 0.5884, 0.25440999999999997, 1.0, 0.29091, 0.43396, 0.2619, 0.33333, 0.0, 0.18632, 0.81979, 0.9314399999999999, 0.0, 0.9842, 0.28919, 0.17073, 0.0, -0.26531, 0.0, -0.28676, -0.40201, 0.41667, -8e-05, 0.51351, -1.0, 0.9583799999999999, 1.0, -8e-05, 0.47058999999999995, 0.00025, 0.0, 1.0, 1.0, 0.9786100000000001, 0.40445, 0.6333300000000001, 0.04749, 0.50376, -0.04598, 0.79015, -0.01427, 0.2672, 0.1167, -0.21572, 0.00705, 0.79089, -1.0, -0.11215, 0.0, -0.11765, -1.0, -0.55556, 0.0, 0.67493, 0.0, 1.0, 0.0, 1.0, 0.17045, 1.0, -0.67553, 0.70833, 0.16827, 0.29220999999999997, 0.82895, 0.18353, 0.0, -0.07457000000000001, 0.47568999999999995, -0.004220000000000001, 0.0, 1.0, 0.0, 1.0, 0.0, 0.013359999999999999, -0.19792, 0.18086, -1.0, 0.85841, 1.0, 0.9652299999999999, 0.00015, 1.0, 0.0, 0.13994, 0.0, 0.86364, 0.0, 0.91176, 0.14939000000000002, 0.57418, 0.0, 0.72727, 0.0, 0.28985, 0.0, 1.0, 1.0, -0.06738999999999999, 1.0, 0.11573, 0.0, -0.47418999999999994, -1.0, -0.23845999999999998, 1.0, -0.10289000000000001, 0.0, -0.5623100000000001, 0.0, 0.42152, 1.0, 0.30588000000000004, 0.0, 1.0, -1.0, 0.54632, 0.56522, 1.0, -0.19066, 0.625, 0.07389, 0.65213, 0.0, 0.9174700000000001, 0.0, 0.8678600000000001, 0.9066700000000001, 0.8214299999999999, 0.0, 0.5896100000000001, 0.0, 0.02249, 1.0, 0.5146, 0.0, 0.34749, 0.12197000000000001, -0.039830000000000004, 0.6137199999999999, 0.6029399999999999, 0.5060899999999999, 0.64407, 0.44783, -0.27339, -0.42815, -0.48808, -0.8121, -0.64056, -0.11894, 0.40821, 0.56167, 0.42223, 0.9222600000000001, 0.45361, 0.69053, 0.60674, 0.30421, 0.51358, 0.50169, 0.37379, -0.33483, -0.6413399999999999, -0.47201000000000004, -0.66932, -0.08937, 0.42805, 0.0029, 0.44766999999999996, 0.16655, 0.77269, 0.8823799999999999, 0.72837, 0.34615, 0.6742, 0.65817, 0.79076, 0.6106699999999999, 0.56319, -0.19312, 0.10007, 0.0019399999999999999, 0.40591, 0.59407, 0.64662, 0.96778, 0.9204899999999999, 0.96575, 0.76271, 0.08333, -0.9190299999999999, -0.19609000000000001, 0.48318999999999995, 0.7482800000000001, 0.76066, 1.0, 0.78761, 0.34571999999999997, 0.62765, 0.76862, 0.83544, 0.5533, 0.8425799999999999, 0.9897100000000001, 0.8673299999999999, 0.9361700000000001, 0.39394, 0.40956, 0.60073, 0.75495, 0.17758, 0.09091, 0.9756100000000001, 0.92553, 0.80774, 0.80088, 0.98934, 0.98674, 1.0, 0.56286, 0.70555, 0.13376, -0.18533, -0.30153, 0.9724700000000001, 0.7843899999999999, 0.28943, 0.6388699999999999, 0.13934000000000002, 0.90546, 0.9148299999999999, 0.9269700000000001, 0.87403, 0.85764], \"xaxis\": \"x\", \"y\": [\"distplot\", \"distplot\", \"distplot\", \"distplot\", \"distplot\", \"distplot\", \"distplot\", \"distplot\", \"distplot\", \"distplot\", \"distplot\", \"distplot\", \"distplot\", \"distplot\", \"distplot\", \"distplot\", \"distplot\", \"distplot\", \"distplot\", \"distplot\", \"distplot\", \"distplot\", \"distplot\", \"distplot\", \"distplot\", \"distplot\", \"distplot\", \"distplot\", \"distplot\", \"distplot\", \"distplot\", \"distplot\", \"distplot\", \"distplot\", \"distplot\", \"distplot\", \"distplot\", \"distplot\", \"distplot\", \"distplot\", \"distplot\", \"distplot\", \"distplot\", \"distplot\", \"distplot\", \"distplot\", \"distplot\", \"distplot\", \"distplot\", \"distplot\", \"distplot\", \"distplot\", \"distplot\", \"distplot\", \"distplot\", \"distplot\", \"distplot\", \"distplot\", \"distplot\", \"distplot\", \"distplot\", \"distplot\", \"distplot\", \"distplot\", \"distplot\", \"distplot\", \"distplot\", \"distplot\", \"distplot\", \"distplot\", \"distplot\", \"distplot\", \"distplot\", \"distplot\", \"distplot\", \"distplot\", \"distplot\", \"distplot\", \"distplot\", \"distplot\", \"distplot\", \"distplot\", \"distplot\", \"distplot\", \"distplot\", \"distplot\", \"distplot\", \"distplot\", \"distplot\", \"distplot\", \"distplot\", \"distplot\", \"distplot\", \"distplot\", \"distplot\", \"distplot\", \"distplot\", \"distplot\", \"distplot\", \"distplot\", \"distplot\", \"distplot\", \"distplot\", \"distplot\", \"distplot\", \"distplot\", \"distplot\", \"distplot\", \"distplot\", \"distplot\", \"distplot\", \"distplot\", \"distplot\", \"distplot\", \"distplot\", \"distplot\", \"distplot\", \"distplot\", \"distplot\", \"distplot\", \"distplot\", \"distplot\", \"distplot\", \"distplot\", \"distplot\", \"distplot\", \"distplot\", \"distplot\", \"distplot\", \"distplot\", \"distplot\", \"distplot\", \"distplot\", \"distplot\", \"distplot\", \"distplot\", \"distplot\", \"distplot\", \"distplot\", \"distplot\", \"distplot\", \"distplot\", \"distplot\", \"distplot\", \"distplot\", \"distplot\", \"distplot\", \"distplot\", \"distplot\", \"distplot\", \"distplot\", \"distplot\", \"distplot\", \"distplot\", \"distplot\", \"distplot\", \"distplot\", \"distplot\", \"distplot\", \"distplot\", \"distplot\", \"distplot\", \"distplot\", \"distplot\", \"distplot\", \"distplot\", \"distplot\", \"distplot\", \"distplot\", \"distplot\", \"distplot\", \"distplot\", \"distplot\", \"distplot\", \"distplot\", \"distplot\", \"distplot\", \"distplot\", \"distplot\", \"distplot\", \"distplot\", \"distplot\", \"distplot\", \"distplot\", \"distplot\", \"distplot\", \"distplot\", \"distplot\", \"distplot\", \"distplot\", \"distplot\", \"distplot\", \"distplot\", \"distplot\", \"distplot\", \"distplot\", \"distplot\", \"distplot\", \"distplot\", \"distplot\", \"distplot\", \"distplot\", \"distplot\", \"distplot\", \"distplot\", \"distplot\", \"distplot\", \"distplot\", \"distplot\", \"distplot\", \"distplot\", \"distplot\", \"distplot\", \"distplot\", \"distplot\", \"distplot\", \"distplot\", \"distplot\", \"distplot\", \"distplot\", \"distplot\", \"distplot\", \"distplot\", \"distplot\", \"distplot\", \"distplot\", \"distplot\", \"distplot\", \"distplot\", \"distplot\", \"distplot\", \"distplot\", \"distplot\", \"distplot\", \"distplot\", \"distplot\", \"distplot\", \"distplot\", \"distplot\", \"distplot\", \"distplot\", \"distplot\", \"distplot\", \"distplot\", \"distplot\", \"distplot\", \"distplot\", \"distplot\", \"distplot\", \"distplot\", \"distplot\", \"distplot\", \"distplot\", \"distplot\", \"distplot\", \"distplot\", \"distplot\", \"distplot\", \"distplot\", \"distplot\", \"distplot\", \"distplot\", \"distplot\", \"distplot\", \"distplot\", \"distplot\", \"distplot\", \"distplot\", \"distplot\", \"distplot\", \"distplot\", \"distplot\", \"distplot\", \"distplot\", \"distplot\", \"distplot\", \"distplot\", \"distplot\", \"distplot\", \"distplot\", \"distplot\", \"distplot\", \"distplot\", \"distplot\", \"distplot\", \"distplot\", \"distplot\", \"distplot\", \"distplot\", \"distplot\", \"distplot\", \"distplot\", \"distplot\", \"distplot\", \"distplot\", \"distplot\", \"distplot\", \"distplot\", \"distplot\", \"distplot\", \"distplot\", \"distplot\", \"distplot\", \"distplot\", \"distplot\", \"distplot\", \"distplot\", \"distplot\", \"distplot\", \"distplot\", \"distplot\", \"distplot\", \"distplot\", \"distplot\", \"distplot\", \"distplot\", \"distplot\", \"distplot\", \"distplot\", \"distplot\", \"distplot\", \"distplot\", \"distplot\", \"distplot\", \"distplot\", \"distplot\", \"distplot\", \"distplot\", \"distplot\", \"distplot\", \"distplot\", \"distplot\", \"distplot\", \"distplot\", \"distplot\", \"distplot\", \"distplot\", \"distplot\", \"distplot\", \"distplot\", \"distplot\", \"distplot\", \"distplot\", \"distplot\", \"distplot\", \"distplot\", \"distplot\", \"distplot\", \"distplot\", \"distplot\", \"distplot\"], \"yaxis\": \"y2\"}],\n",
       "                        {\"barmode\": \"overlay\", \"hovermode\": \"closest\", \"legend\": {\"traceorder\": \"reversed\"}, \"template\": {\"data\": {\"bar\": [{\"error_x\": {\"color\": \"#2a3f5f\"}, \"error_y\": {\"color\": \"#2a3f5f\"}, \"marker\": {\"line\": {\"color\": \"#E5ECF6\", \"width\": 0.5}}, \"type\": \"bar\"}], \"barpolar\": [{\"marker\": {\"line\": {\"color\": \"#E5ECF6\", \"width\": 0.5}}, \"type\": \"barpolar\"}], \"carpet\": [{\"aaxis\": {\"endlinecolor\": \"#2a3f5f\", \"gridcolor\": \"white\", \"linecolor\": \"white\", \"minorgridcolor\": \"white\", \"startlinecolor\": \"#2a3f5f\"}, \"baxis\": {\"endlinecolor\": \"#2a3f5f\", \"gridcolor\": \"white\", \"linecolor\": \"white\", \"minorgridcolor\": \"white\", \"startlinecolor\": \"#2a3f5f\"}, \"type\": \"carpet\"}], \"choropleth\": [{\"colorbar\": {\"outlinewidth\": 0, \"ticks\": \"\"}, \"type\": \"choropleth\"}], \"contour\": [{\"colorbar\": {\"outlinewidth\": 0, \"ticks\": \"\"}, \"colorscale\": [[0.0, \"#0d0887\"], [0.1111111111111111, \"#46039f\"], [0.2222222222222222, \"#7201a8\"], [0.3333333333333333, \"#9c179e\"], [0.4444444444444444, \"#bd3786\"], [0.5555555555555556, \"#d8576b\"], [0.6666666666666666, \"#ed7953\"], [0.7777777777777778, \"#fb9f3a\"], [0.8888888888888888, \"#fdca26\"], [1.0, \"#f0f921\"]], \"type\": \"contour\"}], \"contourcarpet\": [{\"colorbar\": {\"outlinewidth\": 0, \"ticks\": \"\"}, \"type\": \"contourcarpet\"}], \"heatmap\": [{\"colorbar\": {\"outlinewidth\": 0, \"ticks\": \"\"}, \"colorscale\": [[0.0, \"#0d0887\"], [0.1111111111111111, \"#46039f\"], [0.2222222222222222, \"#7201a8\"], [0.3333333333333333, \"#9c179e\"], [0.4444444444444444, \"#bd3786\"], [0.5555555555555556, \"#d8576b\"], [0.6666666666666666, \"#ed7953\"], [0.7777777777777778, \"#fb9f3a\"], [0.8888888888888888, \"#fdca26\"], [1.0, \"#f0f921\"]], \"type\": \"heatmap\"}], \"heatmapgl\": [{\"colorbar\": {\"outlinewidth\": 0, \"ticks\": \"\"}, \"colorscale\": [[0.0, \"#0d0887\"], [0.1111111111111111, \"#46039f\"], [0.2222222222222222, \"#7201a8\"], [0.3333333333333333, \"#9c179e\"], [0.4444444444444444, \"#bd3786\"], [0.5555555555555556, \"#d8576b\"], [0.6666666666666666, \"#ed7953\"], [0.7777777777777778, \"#fb9f3a\"], [0.8888888888888888, \"#fdca26\"], [1.0, \"#f0f921\"]], \"type\": \"heatmapgl\"}], \"histogram\": [{\"marker\": {\"colorbar\": {\"outlinewidth\": 0, \"ticks\": \"\"}}, \"type\": \"histogram\"}], \"histogram2d\": [{\"colorbar\": {\"outlinewidth\": 0, \"ticks\": \"\"}, \"colorscale\": [[0.0, \"#0d0887\"], [0.1111111111111111, \"#46039f\"], [0.2222222222222222, \"#7201a8\"], [0.3333333333333333, \"#9c179e\"], [0.4444444444444444, \"#bd3786\"], [0.5555555555555556, \"#d8576b\"], [0.6666666666666666, \"#ed7953\"], [0.7777777777777778, \"#fb9f3a\"], [0.8888888888888888, \"#fdca26\"], [1.0, \"#f0f921\"]], \"type\": \"histogram2d\"}], \"histogram2dcontour\": [{\"colorbar\": {\"outlinewidth\": 0, \"ticks\": \"\"}, \"colorscale\": [[0.0, \"#0d0887\"], [0.1111111111111111, \"#46039f\"], [0.2222222222222222, \"#7201a8\"], [0.3333333333333333, \"#9c179e\"], [0.4444444444444444, \"#bd3786\"], [0.5555555555555556, \"#d8576b\"], [0.6666666666666666, \"#ed7953\"], [0.7777777777777778, \"#fb9f3a\"], [0.8888888888888888, \"#fdca26\"], [1.0, \"#f0f921\"]], \"type\": \"histogram2dcontour\"}], \"mesh3d\": [{\"colorbar\": {\"outlinewidth\": 0, \"ticks\": \"\"}, \"type\": \"mesh3d\"}], \"parcoords\": [{\"line\": {\"colorbar\": {\"outlinewidth\": 0, \"ticks\": \"\"}}, \"type\": \"parcoords\"}], \"pie\": [{\"automargin\": true, \"type\": \"pie\"}], \"scatter\": [{\"marker\": {\"colorbar\": {\"outlinewidth\": 0, \"ticks\": \"\"}}, \"type\": \"scatter\"}], \"scatter3d\": [{\"line\": {\"colorbar\": {\"outlinewidth\": 0, \"ticks\": \"\"}}, \"marker\": {\"colorbar\": {\"outlinewidth\": 0, \"ticks\": \"\"}}, \"type\": \"scatter3d\"}], \"scattercarpet\": [{\"marker\": {\"colorbar\": {\"outlinewidth\": 0, \"ticks\": \"\"}}, \"type\": \"scattercarpet\"}], \"scattergeo\": [{\"marker\": {\"colorbar\": {\"outlinewidth\": 0, \"ticks\": \"\"}}, \"type\": \"scattergeo\"}], \"scattergl\": [{\"marker\": {\"colorbar\": {\"outlinewidth\": 0, \"ticks\": \"\"}}, \"type\": \"scattergl\"}], \"scattermapbox\": [{\"marker\": {\"colorbar\": {\"outlinewidth\": 0, \"ticks\": \"\"}}, \"type\": \"scattermapbox\"}], \"scatterpolar\": [{\"marker\": {\"colorbar\": {\"outlinewidth\": 0, \"ticks\": \"\"}}, \"type\": \"scatterpolar\"}], \"scatterpolargl\": [{\"marker\": {\"colorbar\": {\"outlinewidth\": 0, \"ticks\": \"\"}}, \"type\": \"scatterpolargl\"}], \"scatterternary\": [{\"marker\": {\"colorbar\": {\"outlinewidth\": 0, \"ticks\": \"\"}}, \"type\": \"scatterternary\"}], \"surface\": [{\"colorbar\": {\"outlinewidth\": 0, \"ticks\": \"\"}, \"colorscale\": [[0.0, \"#0d0887\"], [0.1111111111111111, \"#46039f\"], [0.2222222222222222, \"#7201a8\"], [0.3333333333333333, \"#9c179e\"], [0.4444444444444444, \"#bd3786\"], [0.5555555555555556, \"#d8576b\"], [0.6666666666666666, \"#ed7953\"], [0.7777777777777778, \"#fb9f3a\"], [0.8888888888888888, \"#fdca26\"], [1.0, \"#f0f921\"]], \"type\": \"surface\"}], \"table\": [{\"cells\": {\"fill\": {\"color\": \"#EBF0F8\"}, \"line\": {\"color\": \"white\"}}, \"header\": {\"fill\": {\"color\": \"#C8D4E3\"}, \"line\": {\"color\": \"white\"}}, \"type\": \"table\"}]}, \"layout\": {\"annotationdefaults\": {\"arrowcolor\": \"#2a3f5f\", \"arrowhead\": 0, \"arrowwidth\": 1}, \"coloraxis\": {\"colorbar\": {\"outlinewidth\": 0, \"ticks\": \"\"}}, \"colorscale\": {\"diverging\": [[0, \"#8e0152\"], [0.1, \"#c51b7d\"], [0.2, \"#de77ae\"], [0.3, \"#f1b6da\"], [0.4, \"#fde0ef\"], [0.5, \"#f7f7f7\"], [0.6, \"#e6f5d0\"], [0.7, \"#b8e186\"], [0.8, \"#7fbc41\"], [0.9, \"#4d9221\"], [1, \"#276419\"]], \"sequential\": [[0.0, \"#0d0887\"], [0.1111111111111111, \"#46039f\"], [0.2222222222222222, \"#7201a8\"], [0.3333333333333333, \"#9c179e\"], [0.4444444444444444, \"#bd3786\"], [0.5555555555555556, \"#d8576b\"], [0.6666666666666666, \"#ed7953\"], [0.7777777777777778, \"#fb9f3a\"], [0.8888888888888888, \"#fdca26\"], [1.0, \"#f0f921\"]], \"sequentialminus\": [[0.0, \"#0d0887\"], [0.1111111111111111, \"#46039f\"], [0.2222222222222222, \"#7201a8\"], [0.3333333333333333, \"#9c179e\"], [0.4444444444444444, \"#bd3786\"], [0.5555555555555556, \"#d8576b\"], [0.6666666666666666, \"#ed7953\"], [0.7777777777777778, \"#fb9f3a\"], [0.8888888888888888, \"#fdca26\"], [1.0, \"#f0f921\"]]}, \"colorway\": [\"#636efa\", \"#EF553B\", \"#00cc96\", \"#ab63fa\", \"#FFA15A\", \"#19d3f3\", \"#FF6692\", \"#B6E880\", \"#FF97FF\", \"#FECB52\"], \"font\": {\"color\": \"#2a3f5f\"}, \"geo\": {\"bgcolor\": \"white\", \"lakecolor\": \"white\", \"landcolor\": \"#E5ECF6\", \"showlakes\": true, \"showland\": true, \"subunitcolor\": \"white\"}, \"hoverlabel\": {\"align\": \"left\"}, \"hovermode\": \"closest\", \"mapbox\": {\"style\": \"light\"}, \"paper_bgcolor\": \"white\", \"plot_bgcolor\": \"#E5ECF6\", \"polar\": {\"angularaxis\": {\"gridcolor\": \"white\", \"linecolor\": \"white\", \"ticks\": \"\"}, \"bgcolor\": \"#E5ECF6\", \"radialaxis\": {\"gridcolor\": \"white\", \"linecolor\": \"white\", \"ticks\": \"\"}}, \"scene\": {\"xaxis\": {\"backgroundcolor\": \"#E5ECF6\", \"gridcolor\": \"white\", \"gridwidth\": 2, \"linecolor\": \"white\", \"showbackground\": true, \"ticks\": \"\", \"zerolinecolor\": \"white\"}, \"yaxis\": {\"backgroundcolor\": \"#E5ECF6\", \"gridcolor\": \"white\", \"gridwidth\": 2, \"linecolor\": \"white\", \"showbackground\": true, \"ticks\": \"\", \"zerolinecolor\": \"white\"}, \"zaxis\": {\"backgroundcolor\": \"#E5ECF6\", \"gridcolor\": \"white\", \"gridwidth\": 2, \"linecolor\": \"white\", \"showbackground\": true, \"ticks\": \"\", \"zerolinecolor\": \"white\"}}, \"shapedefaults\": {\"line\": {\"color\": \"#2a3f5f\"}}, \"ternary\": {\"aaxis\": {\"gridcolor\": \"white\", \"linecolor\": \"white\", \"ticks\": \"\"}, \"baxis\": {\"gridcolor\": \"white\", \"linecolor\": \"white\", \"ticks\": \"\"}, \"bgcolor\": \"#E5ECF6\", \"caxis\": {\"gridcolor\": \"white\", \"linecolor\": \"white\", \"ticks\": \"\"}}, \"title\": {\"x\": 0.05}, \"xaxis\": {\"automargin\": true, \"gridcolor\": \"white\", \"linecolor\": \"white\", \"ticks\": \"\", \"title\": {\"standoff\": 15}, \"zerolinecolor\": \"white\", \"zerolinewidth\": 2}, \"yaxis\": {\"automargin\": true, \"gridcolor\": \"white\", \"linecolor\": \"white\", \"ticks\": \"\", \"title\": {\"standoff\": 15}, \"zerolinecolor\": \"white\", \"zerolinewidth\": 2}}}, \"xaxis\": {\"anchor\": \"y2\", \"domain\": [0.0, 1.0], \"zeroline\": false}, \"yaxis\": {\"anchor\": \"free\", \"domain\": [0.35, 1], \"position\": 0.0}, \"yaxis2\": {\"anchor\": \"x\", \"domain\": [0, 0.25], \"dtick\": 1, \"showticklabels\": false}},\n",
       "                        {\"responsive\": true}\n",
       "                    ).then(function(){\n",
       "                            \n",
       "var gd = document.getElementById('4320fef7-3bbe-40b3-be1a-51e68c3c0d66');\n",
       "var x = new MutationObserver(function (mutations, observer) {{\n",
       "        var display = window.getComputedStyle(gd).display;\n",
       "        if (!display || display === 'none') {{\n",
       "            console.log([gd, 'removed!']);\n",
       "            Plotly.purge(gd);\n",
       "            observer.disconnect();\n",
       "        }}\n",
       "}});\n",
       "\n",
       "// Listen for the removal of the full notebook cells\n",
       "var notebookContainer = gd.closest('#notebook-container');\n",
       "if (notebookContainer) {{\n",
       "    x.observe(notebookContainer, {childList: true});\n",
       "}}\n",
       "\n",
       "// Listen for the clearing of the current output cell\n",
       "var outputEl = gd.closest('.output');\n",
       "if (outputEl) {{\n",
       "    x.observe(outputEl, {childList: true});\n",
       "}}\n",
       "\n",
       "                        })\n",
       "                };\n",
       "                });\n",
       "            </script>\n",
       "        </div>"
      ]
     },
     "metadata": {},
     "output_type": "display_data"
    }
   ],
   "source": [
    "import plotly.figure_factory as ff\n",
    "fig = ff.create_distplot([df['Col2']],group_labels=['distplot'])\n",
    "fig.show()"
   ]
  },
  {
   "cell_type": "code",
   "execution_count": 300,
   "metadata": {},
   "outputs": [
    {
     "data": {
      "application/vnd.plotly.v1+json": {
       "config": {
        "plotlyServerURL": "https://plot.ly"
       },
       "data": [
        {
         "hoverlabel": {
          "namelength": 0
         },
         "hovertemplate": "x=%{x}",
         "legendgroup": "",
         "marker": {
          "color": "#636efa",
          "symbol": "circle"
         },
         "mode": "markers",
         "name": "",
         "showlegend": false,
         "type": "scatter",
         "x": [
          0.18641,
          -0.13738,
          0.56045,
          -0.32382,
          -0.04608,
          -0.00039,
          -0.13832,
          0,
          0.38895,
          -0.08208,
          0.22995,
          1,
          0.64727,
          1,
          1,
          0,
          0.70941,
          1,
          1,
          1,
          0.74354,
          -1,
          0.52099,
          0,
          0.64207,
          1,
          -0.13341,
          -1,
          0.52479,
          1,
          1,
          1,
          0.42189,
          -0.23185999999999998,
          1,
          1,
          0.83867,
          0,
          0.65258,
          1,
          0.0699,
          0,
          0.12137,
          1,
          0.49195,
          0,
          0.75115,
          -0.06117,
          0.7432300000000001,
          0,
          0.9332299999999999,
          0,
          1,
          1,
          0.8216600000000001,
          -1,
          0.73992,
          -1,
          0.8357399999999999,
          0,
          0.54252,
          1,
          0.22100999999999998,
          1,
          0.5138199999999999,
          1,
          0.80355,
          1,
          0.98816,
          1,
          0.7149300000000001,
          1,
          0.09047999999999999,
          0,
          0.33381,
          1,
          0.40442,
          -1,
          -0.81383,
          -1,
          1,
          1,
          -0.04023,
          -0.04013,
          0.56361,
          0.34410999999999997,
          0.7320800000000001,
          1,
          0.43137,
          -0.00526,
          0.52361,
          -0.18494000000000002,
          0.50435,
          0.52632,
          0.39559,
          0,
          -0.67699,
          -0.59943,
          0,
          0.57455,
          0,
          0.87011,
          0,
          0.69531,
          0,
          1,
          0,
          0.76586,
          0,
          0.30445,
          0,
          -0.42912,
          0,
          -0.37432,
          0,
          0.14694000000000002,
          0.4918,
          0.5884,
          0.25440999999999997,
          1,
          0.29091,
          0.43396,
          0.2619,
          0.33333,
          0,
          0.18632,
          0.81979,
          0.9314399999999999,
          0,
          0.9842,
          0.28919,
          0.17073,
          0,
          -0.26531,
          0,
          -0.28676,
          -0.40201,
          0.41667,
          -8e-05,
          0.51351,
          -1,
          0.9583799999999999,
          1,
          -8e-05,
          0.47058999999999995,
          0.00025,
          0,
          1,
          1,
          0.9786100000000001,
          0.40445,
          0.6333300000000001,
          0.04749,
          0.50376,
          -0.04598,
          0.79015,
          -0.01427,
          0.2672,
          0.1167,
          -0.21572,
          0.00705,
          0.79089,
          -1,
          -0.11215,
          0,
          -0.11765,
          -1,
          -0.55556,
          0,
          0.67493,
          0,
          1,
          0,
          1,
          0.17045,
          1,
          -0.67553,
          0.70833,
          0.16827,
          0.29220999999999997,
          0.82895,
          0.18353,
          0,
          -0.07457000000000001,
          0.47568999999999995,
          -0.004220000000000001,
          0,
          1,
          0,
          1,
          0,
          0.013359999999999999,
          -0.19792,
          0.18086,
          -1,
          0.85841,
          1,
          0.9652299999999999,
          0.00015,
          1,
          0,
          0.13994,
          0,
          0.86364,
          0,
          0.91176,
          0.14939000000000002,
          0.57418,
          0,
          0.72727,
          0,
          0.28985,
          0,
          1,
          1,
          -0.06738999999999999,
          1,
          0.11573,
          0,
          -0.47418999999999994,
          -1,
          -0.23845999999999998,
          1,
          -0.10289000000000001,
          0,
          -0.5623100000000001,
          0,
          0.42152,
          1,
          0.30588000000000004,
          0,
          1,
          -1,
          0.54632,
          0.56522,
          1,
          -0.19066,
          0.625,
          0.07389,
          0.65213,
          0,
          0.9174700000000001,
          0,
          0.8678600000000001,
          0.9066700000000001,
          0.8214299999999999,
          0,
          0.5896100000000001,
          0,
          0.02249,
          1,
          0.5146,
          0,
          0.34749,
          0.12197000000000001,
          -0.039830000000000004,
          0.6137199999999999,
          0.6029399999999999,
          0.5060899999999999,
          0.64407,
          0.44783,
          -0.27339,
          -0.42815,
          -0.48808,
          -0.8121,
          -0.64056,
          -0.11894,
          0.40821,
          0.56167,
          0.42223,
          0.9222600000000001,
          0.45361,
          0.69053,
          0.60674,
          0.30421,
          0.51358,
          0.50169,
          0.37379,
          -0.33483,
          -0.6413399999999999,
          -0.47201000000000004,
          -0.66932,
          -0.08937,
          0.42805,
          0.0029,
          0.44766999999999996,
          0.16655,
          0.77269,
          0.8823799999999999,
          0.72837,
          0.34615,
          0.6742,
          0.65817,
          0.79076,
          0.6106699999999999,
          0.56319,
          -0.19312,
          0.10007,
          0.0019399999999999999,
          0.40591,
          0.59407,
          0.64662,
          0.96778,
          0.9204899999999999,
          0.96575,
          0.76271,
          0.08333,
          -0.9190299999999999,
          -0.19609000000000001,
          0.48318999999999995,
          0.7482800000000001,
          0.76066,
          1,
          0.78761,
          0.34571999999999997,
          0.62765,
          0.76862,
          0.83544,
          0.5533,
          0.8425799999999999,
          0.9897100000000001,
          0.8673299999999999,
          0.9361700000000001,
          0.39394,
          0.40956,
          0.60073,
          0.75495,
          0.17758,
          0.09091,
          0.9756100000000001,
          0.92553,
          0.80774,
          0.80088,
          0.98934,
          0.98674,
          1,
          0.56286,
          0.70555,
          0.13376,
          -0.18533,
          -0.30153,
          0.9724700000000001,
          0.7843899999999999,
          0.28943,
          0.6388699999999999,
          0.13934000000000002,
          0.90546,
          0.9148299999999999,
          0.9269700000000001,
          0.87403,
          0.85764
         ],
         "xaxis": "x",
         "yaxis": "y"
        }
       ],
       "layout": {
        "legend": {
         "tracegroupgap": 0
        },
        "margin": {
         "t": 60
        },
        "template": {
         "data": {
          "bar": [
           {
            "error_x": {
             "color": "#2a3f5f"
            },
            "error_y": {
             "color": "#2a3f5f"
            },
            "marker": {
             "line": {
              "color": "#E5ECF6",
              "width": 0.5
             }
            },
            "type": "bar"
           }
          ],
          "barpolar": [
           {
            "marker": {
             "line": {
              "color": "#E5ECF6",
              "width": 0.5
             }
            },
            "type": "barpolar"
           }
          ],
          "carpet": [
           {
            "aaxis": {
             "endlinecolor": "#2a3f5f",
             "gridcolor": "white",
             "linecolor": "white",
             "minorgridcolor": "white",
             "startlinecolor": "#2a3f5f"
            },
            "baxis": {
             "endlinecolor": "#2a3f5f",
             "gridcolor": "white",
             "linecolor": "white",
             "minorgridcolor": "white",
             "startlinecolor": "#2a3f5f"
            },
            "type": "carpet"
           }
          ],
          "choropleth": [
           {
            "colorbar": {
             "outlinewidth": 0,
             "ticks": ""
            },
            "type": "choropleth"
           }
          ],
          "contour": [
           {
            "colorbar": {
             "outlinewidth": 0,
             "ticks": ""
            },
            "colorscale": [
             [
              0,
              "#0d0887"
             ],
             [
              0.1111111111111111,
              "#46039f"
             ],
             [
              0.2222222222222222,
              "#7201a8"
             ],
             [
              0.3333333333333333,
              "#9c179e"
             ],
             [
              0.4444444444444444,
              "#bd3786"
             ],
             [
              0.5555555555555556,
              "#d8576b"
             ],
             [
              0.6666666666666666,
              "#ed7953"
             ],
             [
              0.7777777777777778,
              "#fb9f3a"
             ],
             [
              0.8888888888888888,
              "#fdca26"
             ],
             [
              1,
              "#f0f921"
             ]
            ],
            "type": "contour"
           }
          ],
          "contourcarpet": [
           {
            "colorbar": {
             "outlinewidth": 0,
             "ticks": ""
            },
            "type": "contourcarpet"
           }
          ],
          "heatmap": [
           {
            "colorbar": {
             "outlinewidth": 0,
             "ticks": ""
            },
            "colorscale": [
             [
              0,
              "#0d0887"
             ],
             [
              0.1111111111111111,
              "#46039f"
             ],
             [
              0.2222222222222222,
              "#7201a8"
             ],
             [
              0.3333333333333333,
              "#9c179e"
             ],
             [
              0.4444444444444444,
              "#bd3786"
             ],
             [
              0.5555555555555556,
              "#d8576b"
             ],
             [
              0.6666666666666666,
              "#ed7953"
             ],
             [
              0.7777777777777778,
              "#fb9f3a"
             ],
             [
              0.8888888888888888,
              "#fdca26"
             ],
             [
              1,
              "#f0f921"
             ]
            ],
            "type": "heatmap"
           }
          ],
          "heatmapgl": [
           {
            "colorbar": {
             "outlinewidth": 0,
             "ticks": ""
            },
            "colorscale": [
             [
              0,
              "#0d0887"
             ],
             [
              0.1111111111111111,
              "#46039f"
             ],
             [
              0.2222222222222222,
              "#7201a8"
             ],
             [
              0.3333333333333333,
              "#9c179e"
             ],
             [
              0.4444444444444444,
              "#bd3786"
             ],
             [
              0.5555555555555556,
              "#d8576b"
             ],
             [
              0.6666666666666666,
              "#ed7953"
             ],
             [
              0.7777777777777778,
              "#fb9f3a"
             ],
             [
              0.8888888888888888,
              "#fdca26"
             ],
             [
              1,
              "#f0f921"
             ]
            ],
            "type": "heatmapgl"
           }
          ],
          "histogram": [
           {
            "marker": {
             "colorbar": {
              "outlinewidth": 0,
              "ticks": ""
             }
            },
            "type": "histogram"
           }
          ],
          "histogram2d": [
           {
            "colorbar": {
             "outlinewidth": 0,
             "ticks": ""
            },
            "colorscale": [
             [
              0,
              "#0d0887"
             ],
             [
              0.1111111111111111,
              "#46039f"
             ],
             [
              0.2222222222222222,
              "#7201a8"
             ],
             [
              0.3333333333333333,
              "#9c179e"
             ],
             [
              0.4444444444444444,
              "#bd3786"
             ],
             [
              0.5555555555555556,
              "#d8576b"
             ],
             [
              0.6666666666666666,
              "#ed7953"
             ],
             [
              0.7777777777777778,
              "#fb9f3a"
             ],
             [
              0.8888888888888888,
              "#fdca26"
             ],
             [
              1,
              "#f0f921"
             ]
            ],
            "type": "histogram2d"
           }
          ],
          "histogram2dcontour": [
           {
            "colorbar": {
             "outlinewidth": 0,
             "ticks": ""
            },
            "colorscale": [
             [
              0,
              "#0d0887"
             ],
             [
              0.1111111111111111,
              "#46039f"
             ],
             [
              0.2222222222222222,
              "#7201a8"
             ],
             [
              0.3333333333333333,
              "#9c179e"
             ],
             [
              0.4444444444444444,
              "#bd3786"
             ],
             [
              0.5555555555555556,
              "#d8576b"
             ],
             [
              0.6666666666666666,
              "#ed7953"
             ],
             [
              0.7777777777777778,
              "#fb9f3a"
             ],
             [
              0.8888888888888888,
              "#fdca26"
             ],
             [
              1,
              "#f0f921"
             ]
            ],
            "type": "histogram2dcontour"
           }
          ],
          "mesh3d": [
           {
            "colorbar": {
             "outlinewidth": 0,
             "ticks": ""
            },
            "type": "mesh3d"
           }
          ],
          "parcoords": [
           {
            "line": {
             "colorbar": {
              "outlinewidth": 0,
              "ticks": ""
             }
            },
            "type": "parcoords"
           }
          ],
          "pie": [
           {
            "automargin": true,
            "type": "pie"
           }
          ],
          "scatter": [
           {
            "marker": {
             "colorbar": {
              "outlinewidth": 0,
              "ticks": ""
             }
            },
            "type": "scatter"
           }
          ],
          "scatter3d": [
           {
            "line": {
             "colorbar": {
              "outlinewidth": 0,
              "ticks": ""
             }
            },
            "marker": {
             "colorbar": {
              "outlinewidth": 0,
              "ticks": ""
             }
            },
            "type": "scatter3d"
           }
          ],
          "scattercarpet": [
           {
            "marker": {
             "colorbar": {
              "outlinewidth": 0,
              "ticks": ""
             }
            },
            "type": "scattercarpet"
           }
          ],
          "scattergeo": [
           {
            "marker": {
             "colorbar": {
              "outlinewidth": 0,
              "ticks": ""
             }
            },
            "type": "scattergeo"
           }
          ],
          "scattergl": [
           {
            "marker": {
             "colorbar": {
              "outlinewidth": 0,
              "ticks": ""
             }
            },
            "type": "scattergl"
           }
          ],
          "scattermapbox": [
           {
            "marker": {
             "colorbar": {
              "outlinewidth": 0,
              "ticks": ""
             }
            },
            "type": "scattermapbox"
           }
          ],
          "scatterpolar": [
           {
            "marker": {
             "colorbar": {
              "outlinewidth": 0,
              "ticks": ""
             }
            },
            "type": "scatterpolar"
           }
          ],
          "scatterpolargl": [
           {
            "marker": {
             "colorbar": {
              "outlinewidth": 0,
              "ticks": ""
             }
            },
            "type": "scatterpolargl"
           }
          ],
          "scatterternary": [
           {
            "marker": {
             "colorbar": {
              "outlinewidth": 0,
              "ticks": ""
             }
            },
            "type": "scatterternary"
           }
          ],
          "surface": [
           {
            "colorbar": {
             "outlinewidth": 0,
             "ticks": ""
            },
            "colorscale": [
             [
              0,
              "#0d0887"
             ],
             [
              0.1111111111111111,
              "#46039f"
             ],
             [
              0.2222222222222222,
              "#7201a8"
             ],
             [
              0.3333333333333333,
              "#9c179e"
             ],
             [
              0.4444444444444444,
              "#bd3786"
             ],
             [
              0.5555555555555556,
              "#d8576b"
             ],
             [
              0.6666666666666666,
              "#ed7953"
             ],
             [
              0.7777777777777778,
              "#fb9f3a"
             ],
             [
              0.8888888888888888,
              "#fdca26"
             ],
             [
              1,
              "#f0f921"
             ]
            ],
            "type": "surface"
           }
          ],
          "table": [
           {
            "cells": {
             "fill": {
              "color": "#EBF0F8"
             },
             "line": {
              "color": "white"
             }
            },
            "header": {
             "fill": {
              "color": "#C8D4E3"
             },
             "line": {
              "color": "white"
             }
            },
            "type": "table"
           }
          ]
         },
         "layout": {
          "annotationdefaults": {
           "arrowcolor": "#2a3f5f",
           "arrowhead": 0,
           "arrowwidth": 1
          },
          "coloraxis": {
           "colorbar": {
            "outlinewidth": 0,
            "ticks": ""
           }
          },
          "colorscale": {
           "diverging": [
            [
             0,
             "#8e0152"
            ],
            [
             0.1,
             "#c51b7d"
            ],
            [
             0.2,
             "#de77ae"
            ],
            [
             0.3,
             "#f1b6da"
            ],
            [
             0.4,
             "#fde0ef"
            ],
            [
             0.5,
             "#f7f7f7"
            ],
            [
             0.6,
             "#e6f5d0"
            ],
            [
             0.7,
             "#b8e186"
            ],
            [
             0.8,
             "#7fbc41"
            ],
            [
             0.9,
             "#4d9221"
            ],
            [
             1,
             "#276419"
            ]
           ],
           "sequential": [
            [
             0,
             "#0d0887"
            ],
            [
             0.1111111111111111,
             "#46039f"
            ],
            [
             0.2222222222222222,
             "#7201a8"
            ],
            [
             0.3333333333333333,
             "#9c179e"
            ],
            [
             0.4444444444444444,
             "#bd3786"
            ],
            [
             0.5555555555555556,
             "#d8576b"
            ],
            [
             0.6666666666666666,
             "#ed7953"
            ],
            [
             0.7777777777777778,
             "#fb9f3a"
            ],
            [
             0.8888888888888888,
             "#fdca26"
            ],
            [
             1,
             "#f0f921"
            ]
           ],
           "sequentialminus": [
            [
             0,
             "#0d0887"
            ],
            [
             0.1111111111111111,
             "#46039f"
            ],
            [
             0.2222222222222222,
             "#7201a8"
            ],
            [
             0.3333333333333333,
             "#9c179e"
            ],
            [
             0.4444444444444444,
             "#bd3786"
            ],
            [
             0.5555555555555556,
             "#d8576b"
            ],
            [
             0.6666666666666666,
             "#ed7953"
            ],
            [
             0.7777777777777778,
             "#fb9f3a"
            ],
            [
             0.8888888888888888,
             "#fdca26"
            ],
            [
             1,
             "#f0f921"
            ]
           ]
          },
          "colorway": [
           "#636efa",
           "#EF553B",
           "#00cc96",
           "#ab63fa",
           "#FFA15A",
           "#19d3f3",
           "#FF6692",
           "#B6E880",
           "#FF97FF",
           "#FECB52"
          ],
          "font": {
           "color": "#2a3f5f"
          },
          "geo": {
           "bgcolor": "white",
           "lakecolor": "white",
           "landcolor": "#E5ECF6",
           "showlakes": true,
           "showland": true,
           "subunitcolor": "white"
          },
          "hoverlabel": {
           "align": "left"
          },
          "hovermode": "closest",
          "mapbox": {
           "style": "light"
          },
          "paper_bgcolor": "white",
          "plot_bgcolor": "#E5ECF6",
          "polar": {
           "angularaxis": {
            "gridcolor": "white",
            "linecolor": "white",
            "ticks": ""
           },
           "bgcolor": "#E5ECF6",
           "radialaxis": {
            "gridcolor": "white",
            "linecolor": "white",
            "ticks": ""
           }
          },
          "scene": {
           "xaxis": {
            "backgroundcolor": "#E5ECF6",
            "gridcolor": "white",
            "gridwidth": 2,
            "linecolor": "white",
            "showbackground": true,
            "ticks": "",
            "zerolinecolor": "white"
           },
           "yaxis": {
            "backgroundcolor": "#E5ECF6",
            "gridcolor": "white",
            "gridwidth": 2,
            "linecolor": "white",
            "showbackground": true,
            "ticks": "",
            "zerolinecolor": "white"
           },
           "zaxis": {
            "backgroundcolor": "#E5ECF6",
            "gridcolor": "white",
            "gridwidth": 2,
            "linecolor": "white",
            "showbackground": true,
            "ticks": "",
            "zerolinecolor": "white"
           }
          },
          "shapedefaults": {
           "line": {
            "color": "#2a3f5f"
           }
          },
          "ternary": {
           "aaxis": {
            "gridcolor": "white",
            "linecolor": "white",
            "ticks": ""
           },
           "baxis": {
            "gridcolor": "white",
            "linecolor": "white",
            "ticks": ""
           },
           "bgcolor": "#E5ECF6",
           "caxis": {
            "gridcolor": "white",
            "linecolor": "white",
            "ticks": ""
           }
          },
          "title": {
           "x": 0.05
          },
          "xaxis": {
           "automargin": true,
           "gridcolor": "white",
           "linecolor": "white",
           "ticks": "",
           "title": {
            "standoff": 15
           },
           "zerolinecolor": "white",
           "zerolinewidth": 2
          },
          "yaxis": {
           "automargin": true,
           "gridcolor": "white",
           "linecolor": "white",
           "ticks": "",
           "title": {
            "standoff": 15
           },
           "zerolinecolor": "white",
           "zerolinewidth": 2
          }
         }
        },
        "xaxis": {
         "anchor": "y",
         "domain": [
          0,
          1
         ],
         "title": {
          "text": "x"
         }
        },
        "yaxis": {
         "anchor": "x",
         "domain": [
          0,
          1
         ]
        }
       }
      },
      "text/html": [
       "<div>\n",
       "        \n",
       "        \n",
       "            <div id=\"7dd80699-f325-4335-b169-8233536bc919\" class=\"plotly-graph-div\" style=\"height:525px; width:100%;\"></div>\n",
       "            <script type=\"text/javascript\">\n",
       "                require([\"plotly\"], function(Plotly) {\n",
       "                    window.PLOTLYENV=window.PLOTLYENV || {};\n",
       "                    \n",
       "                if (document.getElementById(\"7dd80699-f325-4335-b169-8233536bc919\")) {\n",
       "                    Plotly.newPlot(\n",
       "                        '7dd80699-f325-4335-b169-8233536bc919',\n",
       "                        [{\"hoverlabel\": {\"namelength\": 0}, \"hovertemplate\": \"x=%{x}\", \"legendgroup\": \"\", \"marker\": {\"color\": \"#636efa\", \"symbol\": \"circle\"}, \"mode\": \"markers\", \"name\": \"\", \"showlegend\": false, \"type\": \"scatter\", \"x\": [0.18641, -0.13738, 0.56045, -0.32382, -0.04608, -0.00039, -0.13832, 0.0, 0.38895, -0.08208, 0.22995, 1.0, 0.64727, 1.0, 1.0, 0.0, 0.70941, 1.0, 1.0, 1.0, 0.74354, -1.0, 0.52099, 0.0, 0.64207, 1.0, -0.13341, -1.0, 0.52479, 1.0, 1.0, 1.0, 0.42189, -0.23185999999999998, 1.0, 1.0, 0.83867, 0.0, 0.65258, 1.0, 0.0699, 0.0, 0.12137, 1.0, 0.49195, 0.0, 0.75115, -0.06117, 0.7432300000000001, 0.0, 0.9332299999999999, 0.0, 1.0, 1.0, 0.8216600000000001, -1.0, 0.73992, -1.0, 0.8357399999999999, 0.0, 0.54252, 1.0, 0.22100999999999998, 1.0, 0.5138199999999999, 1.0, 0.80355, 1.0, 0.98816, 1.0, 0.7149300000000001, 1.0, 0.09047999999999999, 0.0, 0.33381, 1.0, 0.40442, -1.0, -0.81383, -1.0, 1.0, 1.0, -0.04023, -0.04013, 0.56361, 0.34410999999999997, 0.7320800000000001, 1.0, 0.43137, -0.00526, 0.52361, -0.18494000000000002, 0.50435, 0.52632, 0.39559, 0.0, -0.67699, -0.59943, 0.0, 0.57455, 0.0, 0.87011, 0.0, 0.69531, 0.0, 1.0, 0.0, 0.76586, 0.0, 0.30445, 0.0, -0.42912, 0.0, -0.37432, 0.0, 0.14694000000000002, 0.4918, 0.5884, 0.25440999999999997, 1.0, 0.29091, 0.43396, 0.2619, 0.33333, 0.0, 0.18632, 0.81979, 0.9314399999999999, 0.0, 0.9842, 0.28919, 0.17073, 0.0, -0.26531, 0.0, -0.28676, -0.40201, 0.41667, -8e-05, 0.51351, -1.0, 0.9583799999999999, 1.0, -8e-05, 0.47058999999999995, 0.00025, 0.0, 1.0, 1.0, 0.9786100000000001, 0.40445, 0.6333300000000001, 0.04749, 0.50376, -0.04598, 0.79015, -0.01427, 0.2672, 0.1167, -0.21572, 0.00705, 0.79089, -1.0, -0.11215, 0.0, -0.11765, -1.0, -0.55556, 0.0, 0.67493, 0.0, 1.0, 0.0, 1.0, 0.17045, 1.0, -0.67553, 0.70833, 0.16827, 0.29220999999999997, 0.82895, 0.18353, 0.0, -0.07457000000000001, 0.47568999999999995, -0.004220000000000001, 0.0, 1.0, 0.0, 1.0, 0.0, 0.013359999999999999, -0.19792, 0.18086, -1.0, 0.85841, 1.0, 0.9652299999999999, 0.00015, 1.0, 0.0, 0.13994, 0.0, 0.86364, 0.0, 0.91176, 0.14939000000000002, 0.57418, 0.0, 0.72727, 0.0, 0.28985, 0.0, 1.0, 1.0, -0.06738999999999999, 1.0, 0.11573, 0.0, -0.47418999999999994, -1.0, -0.23845999999999998, 1.0, -0.10289000000000001, 0.0, -0.5623100000000001, 0.0, 0.42152, 1.0, 0.30588000000000004, 0.0, 1.0, -1.0, 0.54632, 0.56522, 1.0, -0.19066, 0.625, 0.07389, 0.65213, 0.0, 0.9174700000000001, 0.0, 0.8678600000000001, 0.9066700000000001, 0.8214299999999999, 0.0, 0.5896100000000001, 0.0, 0.02249, 1.0, 0.5146, 0.0, 0.34749, 0.12197000000000001, -0.039830000000000004, 0.6137199999999999, 0.6029399999999999, 0.5060899999999999, 0.64407, 0.44783, -0.27339, -0.42815, -0.48808, -0.8121, -0.64056, -0.11894, 0.40821, 0.56167, 0.42223, 0.9222600000000001, 0.45361, 0.69053, 0.60674, 0.30421, 0.51358, 0.50169, 0.37379, -0.33483, -0.6413399999999999, -0.47201000000000004, -0.66932, -0.08937, 0.42805, 0.0029, 0.44766999999999996, 0.16655, 0.77269, 0.8823799999999999, 0.72837, 0.34615, 0.6742, 0.65817, 0.79076, 0.6106699999999999, 0.56319, -0.19312, 0.10007, 0.0019399999999999999, 0.40591, 0.59407, 0.64662, 0.96778, 0.9204899999999999, 0.96575, 0.76271, 0.08333, -0.9190299999999999, -0.19609000000000001, 0.48318999999999995, 0.7482800000000001, 0.76066, 1.0, 0.78761, 0.34571999999999997, 0.62765, 0.76862, 0.83544, 0.5533, 0.8425799999999999, 0.9897100000000001, 0.8673299999999999, 0.9361700000000001, 0.39394, 0.40956, 0.60073, 0.75495, 0.17758, 0.09091, 0.9756100000000001, 0.92553, 0.80774, 0.80088, 0.98934, 0.98674, 1.0, 0.56286, 0.70555, 0.13376, -0.18533, -0.30153, 0.9724700000000001, 0.7843899999999999, 0.28943, 0.6388699999999999, 0.13934000000000002, 0.90546, 0.9148299999999999, 0.9269700000000001, 0.87403, 0.85764], \"xaxis\": \"x\", \"yaxis\": \"y\"}],\n",
       "                        {\"legend\": {\"tracegroupgap\": 0}, \"margin\": {\"t\": 60}, \"template\": {\"data\": {\"bar\": [{\"error_x\": {\"color\": \"#2a3f5f\"}, \"error_y\": {\"color\": \"#2a3f5f\"}, \"marker\": {\"line\": {\"color\": \"#E5ECF6\", \"width\": 0.5}}, \"type\": \"bar\"}], \"barpolar\": [{\"marker\": {\"line\": {\"color\": \"#E5ECF6\", \"width\": 0.5}}, \"type\": \"barpolar\"}], \"carpet\": [{\"aaxis\": {\"endlinecolor\": \"#2a3f5f\", \"gridcolor\": \"white\", \"linecolor\": \"white\", \"minorgridcolor\": \"white\", \"startlinecolor\": \"#2a3f5f\"}, \"baxis\": {\"endlinecolor\": \"#2a3f5f\", \"gridcolor\": \"white\", \"linecolor\": \"white\", \"minorgridcolor\": \"white\", \"startlinecolor\": \"#2a3f5f\"}, \"type\": \"carpet\"}], \"choropleth\": [{\"colorbar\": {\"outlinewidth\": 0, \"ticks\": \"\"}, \"type\": \"choropleth\"}], \"contour\": [{\"colorbar\": {\"outlinewidth\": 0, \"ticks\": \"\"}, \"colorscale\": [[0.0, \"#0d0887\"], [0.1111111111111111, \"#46039f\"], [0.2222222222222222, \"#7201a8\"], [0.3333333333333333, \"#9c179e\"], [0.4444444444444444, \"#bd3786\"], [0.5555555555555556, \"#d8576b\"], [0.6666666666666666, \"#ed7953\"], [0.7777777777777778, \"#fb9f3a\"], [0.8888888888888888, \"#fdca26\"], [1.0, \"#f0f921\"]], \"type\": \"contour\"}], \"contourcarpet\": [{\"colorbar\": {\"outlinewidth\": 0, \"ticks\": \"\"}, \"type\": \"contourcarpet\"}], \"heatmap\": [{\"colorbar\": {\"outlinewidth\": 0, \"ticks\": \"\"}, \"colorscale\": [[0.0, \"#0d0887\"], [0.1111111111111111, \"#46039f\"], [0.2222222222222222, \"#7201a8\"], [0.3333333333333333, \"#9c179e\"], [0.4444444444444444, \"#bd3786\"], [0.5555555555555556, \"#d8576b\"], [0.6666666666666666, \"#ed7953\"], [0.7777777777777778, \"#fb9f3a\"], [0.8888888888888888, \"#fdca26\"], [1.0, \"#f0f921\"]], \"type\": \"heatmap\"}], \"heatmapgl\": [{\"colorbar\": {\"outlinewidth\": 0, \"ticks\": \"\"}, \"colorscale\": [[0.0, \"#0d0887\"], [0.1111111111111111, \"#46039f\"], [0.2222222222222222, \"#7201a8\"], [0.3333333333333333, \"#9c179e\"], [0.4444444444444444, \"#bd3786\"], [0.5555555555555556, \"#d8576b\"], [0.6666666666666666, \"#ed7953\"], [0.7777777777777778, \"#fb9f3a\"], [0.8888888888888888, \"#fdca26\"], [1.0, \"#f0f921\"]], \"type\": \"heatmapgl\"}], \"histogram\": [{\"marker\": {\"colorbar\": {\"outlinewidth\": 0, \"ticks\": \"\"}}, \"type\": \"histogram\"}], \"histogram2d\": [{\"colorbar\": {\"outlinewidth\": 0, \"ticks\": \"\"}, \"colorscale\": [[0.0, \"#0d0887\"], [0.1111111111111111, \"#46039f\"], [0.2222222222222222, \"#7201a8\"], [0.3333333333333333, \"#9c179e\"], [0.4444444444444444, \"#bd3786\"], [0.5555555555555556, \"#d8576b\"], [0.6666666666666666, \"#ed7953\"], [0.7777777777777778, \"#fb9f3a\"], [0.8888888888888888, \"#fdca26\"], [1.0, \"#f0f921\"]], \"type\": \"histogram2d\"}], \"histogram2dcontour\": [{\"colorbar\": {\"outlinewidth\": 0, \"ticks\": \"\"}, \"colorscale\": [[0.0, \"#0d0887\"], [0.1111111111111111, \"#46039f\"], [0.2222222222222222, \"#7201a8\"], [0.3333333333333333, \"#9c179e\"], [0.4444444444444444, \"#bd3786\"], [0.5555555555555556, \"#d8576b\"], [0.6666666666666666, \"#ed7953\"], [0.7777777777777778, \"#fb9f3a\"], [0.8888888888888888, \"#fdca26\"], [1.0, \"#f0f921\"]], \"type\": \"histogram2dcontour\"}], \"mesh3d\": [{\"colorbar\": {\"outlinewidth\": 0, \"ticks\": \"\"}, \"type\": \"mesh3d\"}], \"parcoords\": [{\"line\": {\"colorbar\": {\"outlinewidth\": 0, \"ticks\": \"\"}}, \"type\": \"parcoords\"}], \"pie\": [{\"automargin\": true, \"type\": \"pie\"}], \"scatter\": [{\"marker\": {\"colorbar\": {\"outlinewidth\": 0, \"ticks\": \"\"}}, \"type\": \"scatter\"}], \"scatter3d\": [{\"line\": {\"colorbar\": {\"outlinewidth\": 0, \"ticks\": \"\"}}, \"marker\": {\"colorbar\": {\"outlinewidth\": 0, \"ticks\": \"\"}}, \"type\": \"scatter3d\"}], \"scattercarpet\": [{\"marker\": {\"colorbar\": {\"outlinewidth\": 0, \"ticks\": \"\"}}, \"type\": \"scattercarpet\"}], \"scattergeo\": [{\"marker\": {\"colorbar\": {\"outlinewidth\": 0, \"ticks\": \"\"}}, \"type\": \"scattergeo\"}], \"scattergl\": [{\"marker\": {\"colorbar\": {\"outlinewidth\": 0, \"ticks\": \"\"}}, \"type\": \"scattergl\"}], \"scattermapbox\": [{\"marker\": {\"colorbar\": {\"outlinewidth\": 0, \"ticks\": \"\"}}, \"type\": \"scattermapbox\"}], \"scatterpolar\": [{\"marker\": {\"colorbar\": {\"outlinewidth\": 0, \"ticks\": \"\"}}, \"type\": \"scatterpolar\"}], \"scatterpolargl\": [{\"marker\": {\"colorbar\": {\"outlinewidth\": 0, \"ticks\": \"\"}}, \"type\": \"scatterpolargl\"}], \"scatterternary\": [{\"marker\": {\"colorbar\": {\"outlinewidth\": 0, \"ticks\": \"\"}}, \"type\": \"scatterternary\"}], \"surface\": [{\"colorbar\": {\"outlinewidth\": 0, \"ticks\": \"\"}, \"colorscale\": [[0.0, \"#0d0887\"], [0.1111111111111111, \"#46039f\"], [0.2222222222222222, \"#7201a8\"], [0.3333333333333333, \"#9c179e\"], [0.4444444444444444, \"#bd3786\"], [0.5555555555555556, \"#d8576b\"], [0.6666666666666666, \"#ed7953\"], [0.7777777777777778, \"#fb9f3a\"], [0.8888888888888888, \"#fdca26\"], [1.0, \"#f0f921\"]], \"type\": \"surface\"}], \"table\": [{\"cells\": {\"fill\": {\"color\": \"#EBF0F8\"}, \"line\": {\"color\": \"white\"}}, \"header\": {\"fill\": {\"color\": \"#C8D4E3\"}, \"line\": {\"color\": \"white\"}}, \"type\": \"table\"}]}, \"layout\": {\"annotationdefaults\": {\"arrowcolor\": \"#2a3f5f\", \"arrowhead\": 0, \"arrowwidth\": 1}, \"coloraxis\": {\"colorbar\": {\"outlinewidth\": 0, \"ticks\": \"\"}}, \"colorscale\": {\"diverging\": [[0, \"#8e0152\"], [0.1, \"#c51b7d\"], [0.2, \"#de77ae\"], [0.3, \"#f1b6da\"], [0.4, \"#fde0ef\"], [0.5, \"#f7f7f7\"], [0.6, \"#e6f5d0\"], [0.7, \"#b8e186\"], [0.8, \"#7fbc41\"], [0.9, \"#4d9221\"], [1, \"#276419\"]], \"sequential\": [[0.0, \"#0d0887\"], [0.1111111111111111, \"#46039f\"], [0.2222222222222222, \"#7201a8\"], [0.3333333333333333, \"#9c179e\"], [0.4444444444444444, \"#bd3786\"], [0.5555555555555556, \"#d8576b\"], [0.6666666666666666, \"#ed7953\"], [0.7777777777777778, \"#fb9f3a\"], [0.8888888888888888, \"#fdca26\"], [1.0, \"#f0f921\"]], \"sequentialminus\": [[0.0, \"#0d0887\"], [0.1111111111111111, \"#46039f\"], [0.2222222222222222, \"#7201a8\"], [0.3333333333333333, \"#9c179e\"], [0.4444444444444444, \"#bd3786\"], [0.5555555555555556, \"#d8576b\"], [0.6666666666666666, \"#ed7953\"], [0.7777777777777778, \"#fb9f3a\"], [0.8888888888888888, \"#fdca26\"], [1.0, \"#f0f921\"]]}, \"colorway\": [\"#636efa\", \"#EF553B\", \"#00cc96\", \"#ab63fa\", \"#FFA15A\", \"#19d3f3\", \"#FF6692\", \"#B6E880\", \"#FF97FF\", \"#FECB52\"], \"font\": {\"color\": \"#2a3f5f\"}, \"geo\": {\"bgcolor\": \"white\", \"lakecolor\": \"white\", \"landcolor\": \"#E5ECF6\", \"showlakes\": true, \"showland\": true, \"subunitcolor\": \"white\"}, \"hoverlabel\": {\"align\": \"left\"}, \"hovermode\": \"closest\", \"mapbox\": {\"style\": \"light\"}, \"paper_bgcolor\": \"white\", \"plot_bgcolor\": \"#E5ECF6\", \"polar\": {\"angularaxis\": {\"gridcolor\": \"white\", \"linecolor\": \"white\", \"ticks\": \"\"}, \"bgcolor\": \"#E5ECF6\", \"radialaxis\": {\"gridcolor\": \"white\", \"linecolor\": \"white\", \"ticks\": \"\"}}, \"scene\": {\"xaxis\": {\"backgroundcolor\": \"#E5ECF6\", \"gridcolor\": \"white\", \"gridwidth\": 2, \"linecolor\": \"white\", \"showbackground\": true, \"ticks\": \"\", \"zerolinecolor\": \"white\"}, \"yaxis\": {\"backgroundcolor\": \"#E5ECF6\", \"gridcolor\": \"white\", \"gridwidth\": 2, \"linecolor\": \"white\", \"showbackground\": true, \"ticks\": \"\", \"zerolinecolor\": \"white\"}, \"zaxis\": {\"backgroundcolor\": \"#E5ECF6\", \"gridcolor\": \"white\", \"gridwidth\": 2, \"linecolor\": \"white\", \"showbackground\": true, \"ticks\": \"\", \"zerolinecolor\": \"white\"}}, \"shapedefaults\": {\"line\": {\"color\": \"#2a3f5f\"}}, \"ternary\": {\"aaxis\": {\"gridcolor\": \"white\", \"linecolor\": \"white\", \"ticks\": \"\"}, \"baxis\": {\"gridcolor\": \"white\", \"linecolor\": \"white\", \"ticks\": \"\"}, \"bgcolor\": \"#E5ECF6\", \"caxis\": {\"gridcolor\": \"white\", \"linecolor\": \"white\", \"ticks\": \"\"}}, \"title\": {\"x\": 0.05}, \"xaxis\": {\"automargin\": true, \"gridcolor\": \"white\", \"linecolor\": \"white\", \"ticks\": \"\", \"title\": {\"standoff\": 15}, \"zerolinecolor\": \"white\", \"zerolinewidth\": 2}, \"yaxis\": {\"automargin\": true, \"gridcolor\": \"white\", \"linecolor\": \"white\", \"ticks\": \"\", \"title\": {\"standoff\": 15}, \"zerolinecolor\": \"white\", \"zerolinewidth\": 2}}}, \"xaxis\": {\"anchor\": \"y\", \"domain\": [0.0, 1.0], \"title\": {\"text\": \"x\"}}, \"yaxis\": {\"anchor\": \"x\", \"domain\": [0.0, 1.0]}},\n",
       "                        {\"responsive\": true}\n",
       "                    ).then(function(){\n",
       "                            \n",
       "var gd = document.getElementById('7dd80699-f325-4335-b169-8233536bc919');\n",
       "var x = new MutationObserver(function (mutations, observer) {{\n",
       "        var display = window.getComputedStyle(gd).display;\n",
       "        if (!display || display === 'none') {{\n",
       "            console.log([gd, 'removed!']);\n",
       "            Plotly.purge(gd);\n",
       "            observer.disconnect();\n",
       "        }}\n",
       "}});\n",
       "\n",
       "// Listen for the removal of the full notebook cells\n",
       "var notebookContainer = gd.closest('#notebook-container');\n",
       "if (notebookContainer) {{\n",
       "    x.observe(notebookContainer, {childList: true});\n",
       "}}\n",
       "\n",
       "// Listen for the clearing of the current output cell\n",
       "var outputEl = gd.closest('.output');\n",
       "if (outputEl) {{\n",
       "    x.observe(outputEl, {childList: true});\n",
       "}}\n",
       "\n",
       "                        })\n",
       "                };\n",
       "                });\n",
       "            </script>\n",
       "        </div>"
      ]
     },
     "metadata": {},
     "output_type": "display_data"
    }
   ],
   "source": [
    "import plotly.express as px\n",
    "fig = px.scatter(x = df['Col2'])\n",
    "fig.show()"
   ]
  },
  {
   "cell_type": "code",
   "execution_count": 301,
   "metadata": {},
   "outputs": [
    {
     "data": {
      "text/plain": [
       "<matplotlib.axes._subplots.AxesSubplot at 0x21603b91948>"
      ]
     },
     "execution_count": 301,
     "metadata": {},
     "output_type": "execute_result"
    },
    {
     "data": {
      "image/png": "[encoded data removed]",
      "text/plain": [
       "<Figure size 1332x1332 with 3 Axes>"
      ]
     },
     "metadata": {
      "needs_background": "light"
     },
     "output_type": "display_data"
    }
   ],
   "source": [
    "import seaborn as sns\n",
    "from scipy import stats\n",
    "\n",
    "fig, axes = plt.subplots(3)\n",
    "fig.set_size_inches(18.5, 18.5)\n",
    "fig.suptitle('Barcharts')\n",
    "\n",
    "axes[0].set_title(\"Attribute 32\")\n",
    "sns.distplot(df[\"Col1\"], ax=axes[0], kde=False, fit=stats.gamma , color = \"lightcoral\")\n",
    "\n",
    "axes[1].set_title(\"Attribute 33\")\n",
    "sns.distplot(df[\"Col2\"], ax=axes[1], kde=False, fit=stats.gamma , color = \"crimson\")\n",
    "\n",
    "axes[2].set_title(\"Attribute 34\")\n",
    "sns.distplot(df[\"Col3\"], ax=axes[2], kde=False, fit=stats.gamma , color = \"seagreen\")\n"
   ]
  },
  {
   "cell_type": "markdown",
   "metadata": {},
   "source": [
    "**5 . Use one more display of your own liking to visualize the 33rd numerical attribute; compare it with its histogram visualization your created in part 3.**"
   ]
  },
  {
   "cell_type": "code",
   "execution_count": 302,
   "metadata": {},
   "outputs": [
    {
     "data": {
      "image/png": "[encoded data removed]",
      "text/plain": [
       "<Figure size 432x288 with 1 Axes>"
      ]
     },
     "metadata": {
      "needs_background": "light"
     },
     "output_type": "display_data"
    }
   ],
   "source": [
    "ax = sns.boxplot(x=df['Col3'], color='chocolate')"
   ]
  },
  {
   "cell_type": "code",
   "execution_count": null,
   "metadata": {},
   "outputs": [],
   "source": []
  },
  {
   "cell_type": "markdown",
   "metadata": {},
   "source": [
    "**6 . Create 3 supervised scatter plots using 2 of the 3 attributes and the class variable; use different colors for the class variable. Interpret the scatter plots!**\n"
   ]
  },
  {
   "cell_type": "code",
   "execution_count": 303,
   "metadata": {},
   "outputs": [
    {
     "data": {
      "image/png": "[encoded data removed]",
      "text/plain": [
       "<Figure size 720x504 with 1 Axes>"
      ]
     },
     "metadata": {
      "needs_background": "light"
     },
     "output_type": "display_data"
    }
   ],
   "source": [
    "plt.figure(figsize = (10, 7))\n",
    "plt.scatter(df['Col1'][classVar == 'g'], df['Col2'][classVar == 'g'],label='g')\n",
    "plt.scatter(df['Col1'][classVar == 'b'], df['Col2'][classVar == 'b'],label='b')\n",
    "plt.legend(loc='upper center', bbox_to_anchor=(0.5, -0.05), shadow=True, ncol=2)\n",
    "plt.show()"
   ]
  },
  {
   "cell_type": "code",
   "execution_count": 304,
   "metadata": {},
   "outputs": [
    {
     "data": {
      "image/png": "[encoded data removed]",
      "text/plain": [
       "<Figure size 720x504 with 1 Axes>"
      ]
     },
     "metadata": {
      "needs_background": "light"
     },
     "output_type": "display_data"
    }
   ],
   "source": [
    "plt.figure(figsize = (10, 7))\n",
    "plt.scatter(df['Col2'][classVar == 'g'], df['Col3'][classVar == 'g'],label='g')\n",
    "plt.scatter(df['Col2'][classVar == 'b'], df['Col3'][classVar == 'b'],label='b')\n",
    "plt.legend(loc='upper center', bbox_to_anchor=(0.5, -0.05), shadow=True, ncol=2)\n",
    "plt.show()"
   ]
  },
  {
   "cell_type": "code",
   "execution_count": 305,
   "metadata": {},
   "outputs": [
    {
     "data": {
      "image/png": "[encoded data removed]",
      "text/plain": [
       "<Figure size 720x504 with 1 Axes>"
      ]
     },
     "metadata": {
      "needs_background": "light"
     },
     "output_type": "display_data"
    }
   ],
   "source": [
    "plt.figure(figsize = (10, 7))\n",
    "plt.scatter(df['Col1'][classVar == 'g'], df['Col3'][classVar == 'g'],label='g')\n",
    "plt.scatter(df['Col1'][classVar == 'b'], df['Col3'][classVar == 'b'],label='b')\n",
    "plt.legend(loc='upper center', bbox_to_anchor=(0.5, -0.05), shadow=True, ncol=2)\n",
    "plt.show()"
   ]
  },
  {
   "cell_type": "markdown",
   "metadata": {},
   "source": [
    "From the above plots, we can say that there is no relationship between attributes 32 and 33 as well as 33 and 34.\n",
    "Whereas attributes 32 and 34 are linearly related with respect to Class 'b' but not with Class 'g'."
   ]
  },
  {
   "cell_type": "markdown",
   "metadata": {},
   "source": [
    "**7 . Use on more display of your own liking that sheds some light on the classification task! Interpret the display!**\n"
   ]
  },
  {
   "cell_type": "code",
   "execution_count": 309,
   "metadata": {},
   "outputs": [
    {
     "data": {
      "text/plain": [
       "<seaborn.axisgrid.PairGrid at 0x2160c555208>"
      ]
     },
     "execution_count": 309,
     "metadata": {},
     "output_type": "execute_result"
    },
    {
     "data": {
      "image/png": "[encoded data removed]",
      "text/plain": [
       "<Figure size 582.375x540 with 12 Axes>"
      ]
     },
     "metadata": {
      "needs_background": "light"
     },
     "output_type": "display_data"
    }
   ],
   "source": [
    "sns.pairplot(df1,hue='Class')"
   ]
  },
  {
   "cell_type": "markdown",
   "metadata": {},
   "source": [
    "Attribute 33 is negatively skewed. The other attributes follow Normal distribution.\n",
    "\n"
   ]
  },
  {
   "cell_type": "markdown",
   "metadata": {},
   "source": [
    "**8 . Are there any other interesting observations about the dataset?**"
   ]
  },
  {
   "cell_type": "markdown",
   "metadata": {},
   "source": [
    "We can say that there are non linear relationships between the variables and the class. Thus, they are not linearly separable."
   ]
  },
  {
   "cell_type": "markdown",
   "metadata": {},
   "source": [
    "**9 . Write a short summary that assesses the difficulty of the classification problem (in which the class variable has to be predicted just using the last 3 attributes in the dataset)! What technique(s) you believe has (have) the best potential to solve the classification problem and why?**\n"
   ]
  },
  {
   "cell_type": "markdown",
   "metadata": {},
   "source": [
    "The given problem is binary classification.\n",
    "\n",
    "There are many supervised learning algorithms that can be used to classify the given data.\n",
    "\n",
    "Considering the 3 attributes analysed, a perceptron may not be a suitable model to fit the data because of the local minima present. So, gradient descent learning algorithm will not work well on a case where there is no global minima.\n",
    "Logistic regression cannot be used too.\n",
    "We can use algorithms such as Naive Bayes, knn or SVM for better performance."
   ]
  },
  {
   "cell_type": "code",
   "execution_count": null,
   "metadata": {},
   "outputs": [],
   "source": []
  }
 ],
 "metadata": {
  "kernelspec": {
   "display_name": "Python 3",
   "language": "python",
   "name": "python3"
  },
  "language_info": {
   "codemirror_mode": {
    "name": "ipython",
    "version": 3
   },
   "file_extension": ".py",
   "mimetype": "text/x-python",
   "name": "python",
   "nbconvert_exporter": "python",
   "pygments_lexer": "ipython3",
   "version": "3.7.4"
  }
 },
 "nbformat": 4,
 "nbformat_minor": 2
}
